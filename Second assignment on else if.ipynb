{
  "nbformat": 4,
  "nbformat_minor": 0,
  "metadata": {
    "colab": {
      "name": "Untitled1.ipynb",
      "provenance": [],
      "authorship_tag": "ABX9TyMkRUdzS/ey3xglY3Zajftb",
      "include_colab_link": true
    },
    "kernelspec": {
      "name": "python3",
      "display_name": "Python 3"
    },
    "language_info": {
      "name": "python"
    }
  },
  "cells": [
    {
      "cell_type": "markdown",
      "metadata": {
        "id": "view-in-github",
        "colab_type": "text"
      },
      "source": [
        "<a href=\"https://colab.research.google.com/github/Shakira25/Python_1st_assignment/blob/master/Second%20assignment%20on%20else%20if.ipynb\" target=\"_parent\"><img src=\"https://colab.research.google.com/assets/colab-badge.svg\" alt=\"Open In Colab\"/></a>"
      ]
    },
    {
      "cell_type": "code",
      "execution_count": 1,
      "metadata": {
        "colab": {
          "base_uri": "https://localhost:8080/"
        },
        "id": "f1DGQE1PAhAI",
        "outputId": "efbcc25b-8f8a-4f88-b4db-bc0f06e73a4f"
      },
      "outputs": [
        {
          "output_type": "stream",
          "name": "stdout",
          "text": [
            "Fail\n"
          ]
        }
      ],
      "source": [
        "marks = 40\n",
        "\n",
        "if marks > 80:\n",
        "   remarks = \"Excellent\"\n",
        "   print(remarks)\n",
        "\n",
        "elif marks >= 70 and marks <= 80:\n",
        "    remarks = \"Very Good\"\n",
        "    print(remarks)\n",
        "\n",
        "elif marks >= 60 and marks <= 69:\n",
        "    remarks = \"Good\"\n",
        "    print(remarks)\n",
        "\n",
        "elif marks >= 50 and marks <= 59:\n",
        "    remarks = \"Fair\"\n",
        "    print(remarks)\n",
        "\n",
        "elif marks < 50:\n",
        "    remarks = \"Fail\"\n",
        "    print(remarks)\n"
      ]
    }
  ]
}