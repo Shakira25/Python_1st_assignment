{
  "nbformat": 4,
  "nbformat_minor": 0,
  "metadata": {
    "colab": {
      "name": "Untitled0.ipynb",
      "provenance": [],
      "authorship_tag": "ABX9TyM/+U8F7FL/t1271tcWq7NO",
      "include_colab_link": true
    },
    "kernelspec": {
      "name": "python3",
      "display_name": "Python 3"
    },
    "language_info": {
      "name": "python"
    }
  },
  "cells": [
    {
      "cell_type": "markdown",
      "metadata": {
        "id": "view-in-github",
        "colab_type": "text"
      },
      "source": [
        "<a href=\"https://colab.research.google.com/github/Shakira25/Python_1st_assignment/blob/master/Exercize_1.ipynb\" target=\"_parent\"><img src=\"https://colab.research.google.com/assets/colab-badge.svg\" alt=\"Open In Colab\"/></a>"
      ]
    },
    {
      "cell_type": "code",
      "execution_count": 1,
      "metadata": {
        "colab": {
          "base_uri": "https://localhost:8080/"
        },
        "id": "U6FGBs7Gjwcg",
        "outputId": "12c948e0-9639-4873-d13d-b35782ff6b19"
      },
      "outputs": [
        {
          "output_type": "execute_result",
          "data": {
            "text/plain": [
              "['Mike', '', 'Emma', 'Kelly', '', 'Brad', 'My', 'name', 'is', 'Kelly']"
            ]
          },
          "metadata": {},
          "execution_count": 1
        }
      ],
      "source": [
        "list1 = [\"Mike\", \"\", \"Emma\", \"Kelly\", \"\", \"Brad\"]\n",
        "list2 = [\"My\", \"name\", \"is\", \"Kelly\"]\n",
        "# Number 1 join the list\n",
        "Joint_list = list1 + list2\n",
        "(Joint_list)"
      ]
    },
    {
      "cell_type": "code",
      "source": [
        "# Number 2: Reversing the list\n",
        "Joint_list = [\"Mike\", \"\", \"Emma\", \"Kelly\", \"\", \"Brad\",\"My\", \"name\", \"is\", \"Kelly\" ]\n",
        "Joint_list.reverse()\n",
        "(Joint_list)"
      ],
      "metadata": {
        "colab": {
          "base_uri": "https://localhost:8080/"
        },
        "id": "0HOsLJEuj4wH",
        "outputId": "b4c94788-4b05-4857-bfed-9977dd161786"
      },
      "execution_count": 2,
      "outputs": [
        {
          "output_type": "execute_result",
          "data": {
            "text/plain": [
              "['Kelly', 'is', 'name', 'My', 'Brad', '', 'Kelly', 'Emma', '', 'Mike']"
            ]
          },
          "metadata": {},
          "execution_count": 2
        }
      ]
    },
    {
      "cell_type": "code",
      "source": [
        "# Number 3: Removing empty strings from the list\n",
        "Joint_list = [\"Mike\", \"\", \"Emma\", \"Kelly\", \"\", \"Brad\",\"My\", \"name\", \"is\", \"Kelly\" ]\n",
        "List_without_empty_strings = []\n",
        "for x in Joint_list:\n",
        "    if (x==\"\"):\n",
        "      continue\n",
        "    else:\n",
        "      List_without_empty_strings.append(x)\n",
        "\n",
        "(List_without_empty_strings)"
      ],
      "metadata": {
        "colab": {
          "base_uri": "https://localhost:8080/"
        },
        "id": "Exkttd6kkAqc",
        "outputId": "e3d0a13d-4521-4642-bf20-34b658066c78"
      },
      "execution_count": 3,
      "outputs": [
        {
          "output_type": "execute_result",
          "data": {
            "text/plain": [
              "['Mike', 'Emma', 'Kelly', 'Brad', 'My', 'name', 'is', 'Kelly']"
            ]
          },
          "metadata": {},
          "execution_count": 3
        }
      ]
    },
    {
      "cell_type": "code",
      "source": [
        "# Number 4: Removing duplicates\n",
        "Joint_list = [\"Mike\", \"Emma\", \"Kelly\", \"Brad\",\"My\", \"name\", \"is\", \"Kelly\" ]\n",
        "Joint_list = list(dict.fromkeys(Joint_list))\n",
        "(Joint_list)"
      ],
      "metadata": {
        "colab": {
          "base_uri": "https://localhost:8080/"
        },
        "id": "StdGUVOwkIZH",
        "outputId": "36d2c60b-e42e-43cb-9872-54892ee9a9bf"
      },
      "execution_count": 4,
      "outputs": [
        {
          "output_type": "execute_result",
          "data": {
            "text/plain": [
              "['Mike', 'Emma', 'Kelly', 'Brad', 'My', 'name', 'is']"
            ]
          },
          "metadata": {},
          "execution_count": 4
        }
      ]
    },
    {
      "cell_type": "code",
      "source": [
        "# Number 5: Adding to the list\n",
        "Joint_list = [\"Mike\", \"Emma\", \"Kelly\", \"Brad\",\"My\", \"name\", \"is\", \"Kelly\" ]\n",
        "Joint_list.append(50)\n",
        "(Joint_list)"
      ],
      "metadata": {
        "colab": {
          "base_uri": "https://localhost:8080/"
        },
        "id": "kN9erSmokVL8",
        "outputId": "f47a3fed-fa80-4e6e-8af2-b9a1b3b15ec1"
      },
      "execution_count": 5,
      "outputs": [
        {
          "output_type": "execute_result",
          "data": {
            "text/plain": [
              "['Mike', 'Emma', 'Kelly', 'Brad', 'My', 'name', 'is', 'Kelly', 50]"
            ]
          },
          "metadata": {},
          "execution_count": 5
        }
      ]
    }
  ]
}