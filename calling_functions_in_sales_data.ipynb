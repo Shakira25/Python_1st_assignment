{
  "nbformat": 4,
  "nbformat_minor": 0,
  "metadata": {
    "colab": {
      "name": "Untitled6.ipynb",
      "provenance": [],
      "collapsed_sections": [],
      "authorship_tag": "ABX9TyN5hJMFO2b0j9+8b0YNf75e",
      "include_colab_link": true
    },
    "kernelspec": {
      "name": "python3",
      "display_name": "Python 3"
    },
    "language_info": {
      "name": "python"
    }
  },
  "cells": [
    {
      "cell_type": "markdown",
      "metadata": {
        "id": "view-in-github",
        "colab_type": "text"
      },
      "source": [
        "<a href=\"https://colab.research.google.com/github/Shakira25/Python_1st_assignment/blob/master/calling_functions_in_sales_data.ipynb\" target=\"_parent\"><img src=\"https://colab.research.google.com/assets/colab-badge.svg\" alt=\"Open In Colab\"/></a>"
      ]
    },
    {
      "cell_type": "code",
      "execution_count": 8,
      "metadata": {
        "id": "SuY8dxIaZW78"
      },
      "outputs": [],
      "source": [
        "import pandas as pd\n",
        "import numpy as np\n",
        "import matplotlib.pyplot as plt\n",
        "import seaborn as sns\n",
        "\n",
        "%matplotlib inline"
      ]
    },
    {
      "cell_type": "code",
      "source": [
        "sales = pd.read_csv('sales.csv')"
      ],
      "metadata": {
        "id": "-TMtCGB4Ztu8"
      },
      "execution_count": 9,
      "outputs": []
    },
    {
      "cell_type": "code",
      "source": [
        "sales.head()"
      ],
      "metadata": {
        "colab": {
          "base_uri": "https://localhost:8080/",
          "height": 206
        },
        "id": "6Ei1iSpOZ64_",
        "outputId": "5c6c1b1d-fa9f-480d-f319-0961d7fbb5e3"
      },
      "execution_count": 10,
      "outputs": [
        {
          "output_type": "execute_result",
          "data": {
            "text/html": [
              "\n",
              "  <div id=\"df-b2ad6d6a-4a4e-4243-ab68-eb4f0cff6684\">\n",
              "    <div class=\"colab-df-container\">\n",
              "      <div>\n",
              "<style scoped>\n",
              "    .dataframe tbody tr th:only-of-type {\n",
              "        vertical-align: middle;\n",
              "    }\n",
              "\n",
              "    .dataframe tbody tr th {\n",
              "        vertical-align: top;\n",
              "    }\n",
              "\n",
              "    .dataframe thead th {\n",
              "        text-align: right;\n",
              "    }\n",
              "</style>\n",
              "<table border=\"1\" class=\"dataframe\">\n",
              "  <thead>\n",
              "    <tr style=\"text-align: right;\">\n",
              "      <th></th>\n",
              "      <th>Date</th>\n",
              "      <th>Time</th>\n",
              "      <th>Trade Name</th>\n",
              "      <th>Generic Name</th>\n",
              "      <th>Quantity</th>\n",
              "      <th>Amount</th>\n",
              "      <th>Profit</th>\n",
              "      <th>Dispenser</th>\n",
              "    </tr>\n",
              "  </thead>\n",
              "  <tbody>\n",
              "    <tr>\n",
              "      <th>0</th>\n",
              "      <td>31/12/2021</td>\n",
              "      <td>2:21 pm</td>\n",
              "      <td>Azithro 250mg (Swazi)</td>\n",
              "      <td>Azithro 250mg (Swazi)</td>\n",
              "      <td>40</td>\n",
              "      <td>91920.0</td>\n",
              "      <td>17920.0</td>\n",
              "      <td>pharouk kaks</td>\n",
              "    </tr>\n",
              "    <tr>\n",
              "      <th>1</th>\n",
              "      <td>31/12/2021</td>\n",
              "      <td>2:21 pm</td>\n",
              "      <td>Azithro 500mg (Turkey)</td>\n",
              "      <td>Azithro 500mg</td>\n",
              "      <td>10</td>\n",
              "      <td>70500.0</td>\n",
              "      <td>5500.0</td>\n",
              "      <td>pharouk kaks</td>\n",
              "    </tr>\n",
              "    <tr>\n",
              "      <th>2</th>\n",
              "      <td>31/12/2021</td>\n",
              "      <td>2:21 pm</td>\n",
              "      <td>Mediven S Ointment</td>\n",
              "      <td>Mediven S Ointment</td>\n",
              "      <td>5</td>\n",
              "      <td>31500.0</td>\n",
              "      <td>1500.0</td>\n",
              "      <td>pharouk kaks</td>\n",
              "    </tr>\n",
              "    <tr>\n",
              "      <th>3</th>\n",
              "      <td>31/12/2021</td>\n",
              "      <td>2:21 pm</td>\n",
              "      <td>Clindamycin caps 150mg UK</td>\n",
              "      <td>Clindamycin caps 150mg UK</td>\n",
              "      <td>3</td>\n",
              "      <td>72000.0</td>\n",
              "      <td>15000.0</td>\n",
              "      <td>pharouk kaks</td>\n",
              "    </tr>\n",
              "    <tr>\n",
              "      <th>4</th>\n",
              "      <td>31/12/2021</td>\n",
              "      <td>2:21 pm</td>\n",
              "      <td>Dicloday Gel 30mg</td>\n",
              "      <td>Dicloday Gel 30mg</td>\n",
              "      <td>12</td>\n",
              "      <td>25200.0</td>\n",
              "      <td>2400.0</td>\n",
              "      <td>pharouk kaks</td>\n",
              "    </tr>\n",
              "  </tbody>\n",
              "</table>\n",
              "</div>\n",
              "      <button class=\"colab-df-convert\" onclick=\"convertToInteractive('df-b2ad6d6a-4a4e-4243-ab68-eb4f0cff6684')\"\n",
              "              title=\"Convert this dataframe to an interactive table.\"\n",
              "              style=\"display:none;\">\n",
              "        \n",
              "  <svg xmlns=\"http://www.w3.org/2000/svg\" height=\"24px\"viewBox=\"0 0 24 24\"\n",
              "       width=\"24px\">\n",
              "    <path d=\"M0 0h24v24H0V0z\" fill=\"none\"/>\n",
              "    <path d=\"M18.56 5.44l.94 2.06.94-2.06 2.06-.94-2.06-.94-.94-2.06-.94 2.06-2.06.94zm-11 1L8.5 8.5l.94-2.06 2.06-.94-2.06-.94L8.5 2.5l-.94 2.06-2.06.94zm10 10l.94 2.06.94-2.06 2.06-.94-2.06-.94-.94-2.06-.94 2.06-2.06.94z\"/><path d=\"M17.41 7.96l-1.37-1.37c-.4-.4-.92-.59-1.43-.59-.52 0-1.04.2-1.43.59L10.3 9.45l-7.72 7.72c-.78.78-.78 2.05 0 2.83L4 21.41c.39.39.9.59 1.41.59.51 0 1.02-.2 1.41-.59l7.78-7.78 2.81-2.81c.8-.78.8-2.07 0-2.86zM5.41 20L4 18.59l7.72-7.72 1.47 1.35L5.41 20z\"/>\n",
              "  </svg>\n",
              "      </button>\n",
              "      \n",
              "  <style>\n",
              "    .colab-df-container {\n",
              "      display:flex;\n",
              "      flex-wrap:wrap;\n",
              "      gap: 12px;\n",
              "    }\n",
              "\n",
              "    .colab-df-convert {\n",
              "      background-color: #E8F0FE;\n",
              "      border: none;\n",
              "      border-radius: 50%;\n",
              "      cursor: pointer;\n",
              "      display: none;\n",
              "      fill: #1967D2;\n",
              "      height: 32px;\n",
              "      padding: 0 0 0 0;\n",
              "      width: 32px;\n",
              "    }\n",
              "\n",
              "    .colab-df-convert:hover {\n",
              "      background-color: #E2EBFA;\n",
              "      box-shadow: 0px 1px 2px rgba(60, 64, 67, 0.3), 0px 1px 3px 1px rgba(60, 64, 67, 0.15);\n",
              "      fill: #174EA6;\n",
              "    }\n",
              "\n",
              "    [theme=dark] .colab-df-convert {\n",
              "      background-color: #3B4455;\n",
              "      fill: #D2E3FC;\n",
              "    }\n",
              "\n",
              "    [theme=dark] .colab-df-convert:hover {\n",
              "      background-color: #434B5C;\n",
              "      box-shadow: 0px 1px 3px 1px rgba(0, 0, 0, 0.15);\n",
              "      filter: drop-shadow(0px 1px 2px rgba(0, 0, 0, 0.3));\n",
              "      fill: #FFFFFF;\n",
              "    }\n",
              "  </style>\n",
              "\n",
              "      <script>\n",
              "        const buttonEl =\n",
              "          document.querySelector('#df-b2ad6d6a-4a4e-4243-ab68-eb4f0cff6684 button.colab-df-convert');\n",
              "        buttonEl.style.display =\n",
              "          google.colab.kernel.accessAllowed ? 'block' : 'none';\n",
              "\n",
              "        async function convertToInteractive(key) {\n",
              "          const element = document.querySelector('#df-b2ad6d6a-4a4e-4243-ab68-eb4f0cff6684');\n",
              "          const dataTable =\n",
              "            await google.colab.kernel.invokeFunction('convertToInteractive',\n",
              "                                                     [key], {});\n",
              "          if (!dataTable) return;\n",
              "\n",
              "          const docLinkHtml = 'Like what you see? Visit the ' +\n",
              "            '<a target=\"_blank\" href=https://colab.research.google.com/notebooks/data_table.ipynb>data table notebook</a>'\n",
              "            + ' to learn more about interactive tables.';\n",
              "          element.innerHTML = '';\n",
              "          dataTable['output_type'] = 'display_data';\n",
              "          await google.colab.output.renderOutput(dataTable, element);\n",
              "          const docLink = document.createElement('div');\n",
              "          docLink.innerHTML = docLinkHtml;\n",
              "          element.appendChild(docLink);\n",
              "        }\n",
              "      </script>\n",
              "    </div>\n",
              "  </div>\n",
              "  "
            ],
            "text/plain": [
              "         Date     Time  ...   Profit     Dispenser\n",
              "0  31/12/2021  2:21 pm  ...  17920.0  pharouk kaks\n",
              "1  31/12/2021  2:21 pm  ...   5500.0  pharouk kaks\n",
              "2  31/12/2021  2:21 pm  ...   1500.0  pharouk kaks\n",
              "3  31/12/2021  2:21 pm  ...  15000.0  pharouk kaks\n",
              "4  31/12/2021  2:21 pm  ...   2400.0  pharouk kaks\n",
              "\n",
              "[5 rows x 8 columns]"
            ]
          },
          "metadata": {},
          "execution_count": 10
        }
      ]
    },
    {
      "cell_type": "code",
      "source": [
        "sales.shape"
      ],
      "metadata": {
        "colab": {
          "base_uri": "https://localhost:8080/"
        },
        "id": "rsFw8AsHaLWA",
        "outputId": "a865d16e-b662-4cd3-eab4-5c3d03f5bc31"
      },
      "execution_count": 8,
      "outputs": [
        {
          "output_type": "execute_result",
          "data": {
            "text/plain": [
              "(47239, 8)"
            ]
          },
          "metadata": {},
          "execution_count": 8
        }
      ]
    },
    {
      "cell_type": "code",
      "source": [
        "sales.size"
      ],
      "metadata": {
        "colab": {
          "base_uri": "https://localhost:8080/"
        },
        "id": "nb-YGMKGaP3r",
        "outputId": "d7c87438-79e0-4a34-ff2d-3dadf09401fc"
      },
      "execution_count": 10,
      "outputs": [
        {
          "output_type": "execute_result",
          "data": {
            "text/plain": [
              "377912"
            ]
          },
          "metadata": {},
          "execution_count": 10
        }
      ]
    },
    {
      "cell_type": "code",
      "source": [
        "round(sales.describe())"
      ],
      "metadata": {
        "colab": {
          "base_uri": "https://localhost:8080/",
          "height": 300
        },
        "id": "QomQCqidaTzq",
        "outputId": "f11a18d6-bcc7-4b1f-a3fe-712363801372"
      },
      "execution_count": 14,
      "outputs": [
        {
          "output_type": "execute_result",
          "data": {
            "text/html": [
              "\n",
              "  <div id=\"df-d9cff901-7bbe-42c9-878f-2338d0063acb\">\n",
              "    <div class=\"colab-df-container\">\n",
              "      <div>\n",
              "<style scoped>\n",
              "    .dataframe tbody tr th:only-of-type {\n",
              "        vertical-align: middle;\n",
              "    }\n",
              "\n",
              "    .dataframe tbody tr th {\n",
              "        vertical-align: top;\n",
              "    }\n",
              "\n",
              "    .dataframe thead th {\n",
              "        text-align: right;\n",
              "    }\n",
              "</style>\n",
              "<table border=\"1\" class=\"dataframe\">\n",
              "  <thead>\n",
              "    <tr style=\"text-align: right;\">\n",
              "      <th></th>\n",
              "      <th>Amount</th>\n",
              "      <th>Profit</th>\n",
              "    </tr>\n",
              "  </thead>\n",
              "  <tbody>\n",
              "    <tr>\n",
              "      <th>count</th>\n",
              "      <td>47231.0</td>\n",
              "      <td>47239.0</td>\n",
              "    </tr>\n",
              "    <tr>\n",
              "      <th>mean</th>\n",
              "      <td>21144.0</td>\n",
              "      <td>1550.0</td>\n",
              "    </tr>\n",
              "    <tr>\n",
              "      <th>std</th>\n",
              "      <td>70933.0</td>\n",
              "      <td>16515.0</td>\n",
              "    </tr>\n",
              "    <tr>\n",
              "      <th>min</th>\n",
              "      <td>0.0</td>\n",
              "      <td>-2583300.0</td>\n",
              "    </tr>\n",
              "    <tr>\n",
              "      <th>25%</th>\n",
              "      <td>2950.0</td>\n",
              "      <td>400.0</td>\n",
              "    </tr>\n",
              "    <tr>\n",
              "      <th>50%</th>\n",
              "      <td>6700.0</td>\n",
              "      <td>750.0</td>\n",
              "    </tr>\n",
              "    <tr>\n",
              "      <th>75%</th>\n",
              "      <td>19000.0</td>\n",
              "      <td>1520.0</td>\n",
              "    </tr>\n",
              "    <tr>\n",
              "      <th>max</th>\n",
              "      <td>4776000.0</td>\n",
              "      <td>526364.0</td>\n",
              "    </tr>\n",
              "  </tbody>\n",
              "</table>\n",
              "</div>\n",
              "      <button class=\"colab-df-convert\" onclick=\"convertToInteractive('df-d9cff901-7bbe-42c9-878f-2338d0063acb')\"\n",
              "              title=\"Convert this dataframe to an interactive table.\"\n",
              "              style=\"display:none;\">\n",
              "        \n",
              "  <svg xmlns=\"http://www.w3.org/2000/svg\" height=\"24px\"viewBox=\"0 0 24 24\"\n",
              "       width=\"24px\">\n",
              "    <path d=\"M0 0h24v24H0V0z\" fill=\"none\"/>\n",
              "    <path d=\"M18.56 5.44l.94 2.06.94-2.06 2.06-.94-2.06-.94-.94-2.06-.94 2.06-2.06.94zm-11 1L8.5 8.5l.94-2.06 2.06-.94-2.06-.94L8.5 2.5l-.94 2.06-2.06.94zm10 10l.94 2.06.94-2.06 2.06-.94-2.06-.94-.94-2.06-.94 2.06-2.06.94z\"/><path d=\"M17.41 7.96l-1.37-1.37c-.4-.4-.92-.59-1.43-.59-.52 0-1.04.2-1.43.59L10.3 9.45l-7.72 7.72c-.78.78-.78 2.05 0 2.83L4 21.41c.39.39.9.59 1.41.59.51 0 1.02-.2 1.41-.59l7.78-7.78 2.81-2.81c.8-.78.8-2.07 0-2.86zM5.41 20L4 18.59l7.72-7.72 1.47 1.35L5.41 20z\"/>\n",
              "  </svg>\n",
              "      </button>\n",
              "      \n",
              "  <style>\n",
              "    .colab-df-container {\n",
              "      display:flex;\n",
              "      flex-wrap:wrap;\n",
              "      gap: 12px;\n",
              "    }\n",
              "\n",
              "    .colab-df-convert {\n",
              "      background-color: #E8F0FE;\n",
              "      border: none;\n",
              "      border-radius: 50%;\n",
              "      cursor: pointer;\n",
              "      display: none;\n",
              "      fill: #1967D2;\n",
              "      height: 32px;\n",
              "      padding: 0 0 0 0;\n",
              "      width: 32px;\n",
              "    }\n",
              "\n",
              "    .colab-df-convert:hover {\n",
              "      background-color: #E2EBFA;\n",
              "      box-shadow: 0px 1px 2px rgba(60, 64, 67, 0.3), 0px 1px 3px 1px rgba(60, 64, 67, 0.15);\n",
              "      fill: #174EA6;\n",
              "    }\n",
              "\n",
              "    [theme=dark] .colab-df-convert {\n",
              "      background-color: #3B4455;\n",
              "      fill: #D2E3FC;\n",
              "    }\n",
              "\n",
              "    [theme=dark] .colab-df-convert:hover {\n",
              "      background-color: #434B5C;\n",
              "      box-shadow: 0px 1px 3px 1px rgba(0, 0, 0, 0.15);\n",
              "      filter: drop-shadow(0px 1px 2px rgba(0, 0, 0, 0.3));\n",
              "      fill: #FFFFFF;\n",
              "    }\n",
              "  </style>\n",
              "\n",
              "      <script>\n",
              "        const buttonEl =\n",
              "          document.querySelector('#df-d9cff901-7bbe-42c9-878f-2338d0063acb button.colab-df-convert');\n",
              "        buttonEl.style.display =\n",
              "          google.colab.kernel.accessAllowed ? 'block' : 'none';\n",
              "\n",
              "        async function convertToInteractive(key) {\n",
              "          const element = document.querySelector('#df-d9cff901-7bbe-42c9-878f-2338d0063acb');\n",
              "          const dataTable =\n",
              "            await google.colab.kernel.invokeFunction('convertToInteractive',\n",
              "                                                     [key], {});\n",
              "          if (!dataTable) return;\n",
              "\n",
              "          const docLinkHtml = 'Like what you see? Visit the ' +\n",
              "            '<a target=\"_blank\" href=https://colab.research.google.com/notebooks/data_table.ipynb>data table notebook</a>'\n",
              "            + ' to learn more about interactive tables.';\n",
              "          element.innerHTML = '';\n",
              "          dataTable['output_type'] = 'display_data';\n",
              "          await google.colab.output.renderOutput(dataTable, element);\n",
              "          const docLink = document.createElement('div');\n",
              "          docLink.innerHTML = docLinkHtml;\n",
              "          element.appendChild(docLink);\n",
              "        }\n",
              "      </script>\n",
              "    </div>\n",
              "  </div>\n",
              "  "
            ],
            "text/plain": [
              "          Amount     Profit\n",
              "count    47231.0    47239.0\n",
              "mean     21144.0     1550.0\n",
              "std      70933.0    16515.0\n",
              "min          0.0 -2583300.0\n",
              "25%       2950.0      400.0\n",
              "50%       6700.0      750.0\n",
              "75%      19000.0     1520.0\n",
              "max    4776000.0   526364.0"
            ]
          },
          "metadata": {},
          "execution_count": 14
        }
      ]
    },
    {
      "cell_type": "code",
      "source": [
        "sales.dtypes"
      ],
      "metadata": {
        "colab": {
          "base_uri": "https://localhost:8080/"
        },
        "id": "SilosPvzbC6P",
        "outputId": "4ce31ec9-bce6-458a-bbf6-9fc19a94b4f9"
      },
      "execution_count": 18,
      "outputs": [
        {
          "output_type": "execute_result",
          "data": {
            "text/plain": [
              "Date             object\n",
              "Time             object\n",
              "Trade Name       object\n",
              "Generic Name     object\n",
              "Quantity         object\n",
              "Amount          float64\n",
              "Profit          float64\n",
              "Dispenser        object\n",
              "dtype: object"
            ]
          },
          "metadata": {},
          "execution_count": 18
        }
      ]
    },
    {
      "cell_type": "code",
      "source": [
        "def print_total_sales_in_dec():\n",
        "    total_sales = sales['Amount'].sum()\n",
        "    print(\"{:,}\".format(round(total_sales)))"
      ],
      "metadata": {
        "id": "RvR6GrhQarMz"
      },
      "execution_count": 5,
      "outputs": []
    },
    {
      "cell_type": "code",
      "source": [
        "def print_most_profitable_item():\n",
        "    y = sales.groupby(['Trade Name'],as_index=True).sum()\n",
        "    x = y.sort_values(['Profit'], ascending = False)\n",
        "    w = x.iloc[0].to_frame()\n",
        "    print(w)\n"
      ],
      "metadata": {
        "id": "8b1yPaGocGSd"
      },
      "execution_count": 6,
      "outputs": []
    },
    {
      "cell_type": "code",
      "source": [
        "def print_least_profitable_item():\n",
        "    y = sales.groupby(['Trade Name'], as_index = True).sum()\n",
        "    x = y.sort_values(['Profit'], ascending = True)\n",
        "    w = x.iloc[0].to_frame()\n",
        "    print(w)"
      ],
      "metadata": {
        "id": "lbS_GC5wemT4"
      },
      "execution_count": 11,
      "outputs": []
    },
    {
      "cell_type": "code",
      "source": [
        "def print_dispenser_that_sold_most():\n",
        "    y = sales.groupby(['Dispenser'], as_index =True).sum()\n",
        "    x = y.sort_values(['Amount'], ascending = False)\n",
        "    w = x.iloc[0].to_frame()\n",
        "    print(w)"
      ],
      "metadata": {
        "id": "ux8iq7CufW1b"
      },
      "execution_count": 12,
      "outputs": []
    },
    {
      "cell_type": "code",
      "source": [
        "def print_dispenser_that_sold_least():\n",
        "    y = sales.groupby(['Dispenser'], as_index =True).sum()\n",
        "    x = y.sort_values(['Amount'], ascending = True)\n",
        "    w = x.iloc[0].to_frame()\n",
        "    print(w)"
      ],
      "metadata": {
        "id": "QwnPppPnf-SI"
      },
      "execution_count": 13,
      "outputs": []
    },
    {
      "cell_type": "code",
      "source": [
        "def print_item_that_sold_most():\n",
        "    y = sales.groupby(['Trade Name'], as_index =True).sum()\n",
        "    x = y.sort_values(['Amount'], ascending = False)\n",
        "    w = x.iloc[0].to_frame()\n",
        "    print(w)"
      ],
      "metadata": {
        "id": "2yIpoQPhgV0U"
      },
      "execution_count": 14,
      "outputs": []
    },
    {
      "cell_type": "code",
      "source": [
        "def print_item_that_sold_least():\n",
        "    y = sales.groupby(['Trade Name'], as_index =True).sum()\n",
        "    x = y.sort_values(['Amount'], ascending = True)\n",
        "    w = x.iloc[0].to_frame()\n",
        "    print(w)"
      ],
      "metadata": {
        "id": "JxBPvAqUgu-z"
      },
      "execution_count": 15,
      "outputs": []
    },
    {
      "cell_type": "code",
      "source": [
        "def print_date_with_most_sales():\n",
        "    y = sales.groupby(['Date'], as_index =True).sum()\n",
        "    x = y.sort_values(['Amount'], ascending = False)\n",
        "    w = x.iloc[0].to_frame()\n",
        "    print(w)"
      ],
      "metadata": {
        "id": "Al-_0po4hDiX"
      },
      "execution_count": 16,
      "outputs": []
    },
    {
      "cell_type": "code",
      "source": [
        "def show_values(axs, orient=\"v\", space=.01):\n",
        "    def _single(ax):\n",
        "        if orient == \"v\":\n",
        "            for p in ax.patches:\n",
        "                _x = p.get_x() + p.get_width() / 2\n",
        "                _y = p.get_y() + p.get_height() + (p.get_height()*0.01)\n",
        "                value = '{:.1f}'.format(p.get_height())\n",
        "                ax.text(_x, _y, value, ha=\"center\") \n",
        "        elif orient == \"h\":\n",
        "            for p in ax.patches:\n",
        "                _x = p.get_x() + p.get_width() + float(space)\n",
        "                _y = p.get_y() + p.get_height() - (p.get_height()*0.5)\n",
        "                value = '{:.1f}'.format(p.get_width())\n",
        "                ax.text(_x, _y, value, ha=\"left\")\n",
        "\n",
        "    if isinstance(axs, np.ndarray):\n",
        "        for idx, ax in np.ndenumerate(axs):\n",
        "            _single(ax)\n",
        "    else:\n",
        "        _single(axs)"
      ],
      "metadata": {
        "id": "K_yNT6A6BOTS"
      },
      "execution_count": 1,
      "outputs": []
    },
    {
      "cell_type": "code",
      "source": [
        "def print_a_graph_showing_total_sales_per_deispenser():\n",
        "    x = sales.groupby([\"Dispenser\"],as_index=False).sum()\n",
        "    y = round(x.sort_values(['Amount'], ascending = True))\n",
        "    print(y)\n",
        "    chart = sns.barplot(data = y, x = \"Dispenser\", y = \"Amount\")\n",
        "    chart.set_xticklabels(chart.get_xticklabels(), rotation=80)\n",
        "    show_values(chart)\n",
        "    plt.title('Total sales made per dispenser')\n",
        "\n"
      ],
      "metadata": {
        "id": "ihbIUoLAhSA0"
      },
      "execution_count": 3,
      "outputs": []
    },
    {
      "cell_type": "code",
      "source": [
        "print_total_sales_in_dec()\n",
        "print_most_profitable_item()\n",
        "print_least_profitable_item()\n",
        "print_item_that_sold_most()\n",
        "print_item_that_sold_least()\n",
        "print_dispenser_that_sold_most()\n",
        "print_dispenser_that_sold_least()\n",
        "print_date_with_most_sales()\n",
        "print_a_graph_showing_total_sales_per_deispenser()"
      ],
      "metadata": {
        "colab": {
          "base_uri": "https://localhost:8080/",
          "height": 873
        },
        "id": "hgo72NY59xlb",
        "outputId": "59aa06e1-caca-41b1-cbda-28306ffccdb0"
      },
      "execution_count": 17,
      "outputs": [
        {
          "output_type": "stream",
          "name": "stdout",
          "text": [
            "998,657,002\n",
            "        Lonart Tab 24s\n",
            "Amount      31461650.0\n",
            "Profit       2224055.0\n",
            "        Valparin Chrono 500mg\n",
            "Amount               204700.0\n",
            "Profit             -2555300.0\n",
            "        Ampiclox Caps (India) 10x10\n",
            "Amount                   35326931.0\n",
            "Profit                    1367177.0\n",
            "        Nasahaler Nasal Spray 140MD\n",
            "Amount                          0.0\n",
            "Profit                          0.0\n",
            "          CRISTOPHER\n",
            "Amount  3.513890e+08\n",
            "Profit  2.271824e+07\n",
            "           Mubarak\n",
            "Amount  3734666.61\n",
            "Profit  1012830.86\n",
            "          31/12/2021\n",
            "Amount  7.837914e+07\n",
            "Profit  4.797378e+06\n",
            "      Dispenser       Amount      Profit\n",
            "4       Mubarak    3734667.0   1012831.0\n",
            "5       lillian   22659235.0   6088189.0\n",
            "1        JimmyL   29315753.0   1903852.0\n",
            "2    KIKOISHAKA  144401540.0  11218196.0\n",
            "3        MOSESI  168134344.0   7198340.0\n",
            "6  pharouk kaks  279022427.0  23098105.0\n",
            "0    CRISTOPHER  351389036.0  22718238.0\n"
          ]
        },
        {
          "output_type": "display_data",
          "data": {
            "image/png": "[encoded data removed]",
            "text/plain": [
              "<Figure size 432x288 with 1 Axes>"
            ]
          },
          "metadata": {
            "needs_background": "light"
          }
        }
      ]
    }
  ]
}