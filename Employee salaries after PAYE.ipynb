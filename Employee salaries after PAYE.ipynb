{
  "nbformat": 4,
  "nbformat_minor": 0,
  "metadata": {
    "colab": {
      "name": "Untitled4.ipynb",
      "provenance": [],
      "authorship_tag": "ABX9TyPYBBbLfTE3CumYjv9OSRqe",
      "include_colab_link": true
    },
    "kernelspec": {
      "name": "python3",
      "display_name": "Python 3"
    },
    "language_info": {
      "name": "python"
    }
  },
  "cells": [
    {
      "cell_type": "markdown",
      "metadata": {
        "id": "view-in-github",
        "colab_type": "text"
      },
      "source": [
        "<a href=\"https://colab.research.google.com/github/Shakira25/Python_1st_assignment/blob/master/Employee%20salaries%20after%20PAYE.ipynb\" target=\"_parent\"><img src=\"https://colab.research.google.com/assets/colab-badge.svg\" alt=\"Open In Colab\"/></a>"
      ]
    },
    {
      "cell_type": "code",
      "execution_count": 31,
      "metadata": {
        "colab": {
          "base_uri": "https://localhost:8080/"
        },
        "id": "eWq_5NQhFj9J",
        "outputId": "21ef3959-f502-49f0-bb35-c39e1ef09512"
      },
      "outputs": [
        {
          "output_type": "stream",
          "name": "stdout",
          "text": [
            "[350000, 525000, 1662500, 3325000, 1995000, 1163750]\n"
          ]
        }
      ],
      "source": [
        "# 1 USD  = 3500 UGX. Convert 100, 150, 500, 1000, 600, 350 USD to UGX. URA levies PAYEE of 5% on all exchanges above 1m UGX. \n",
        "# How much will each customer walk away \n",
        "employees_salaries_in_USD = [100, 150, 500, 1000, 600, 350]\n",
        "employees_salaries_after_URA =[]\n",
        "\n",
        "for employee_salary_in_USD in employees_salaries_in_USD:\n",
        "    employee_salary_in_UGX = employee_salary_in_USD * 3500\n",
        "    if employee_salary_in_UGX > 1000000:\n",
        "          PAYE = round(employee_salary_in_UGX -(employee_salary_in_UGX * 0.05))\n",
        "          employees_salaries_after_URA.append(PAYE)\n",
        "\n",
        "    else:\n",
        "          employees_salaries_after_URA.append(employee_salary_in_UGX)\n",
        "  \n",
        "print(employees_salaries_after_URA)\n",
        "\n"
      ]
    }
  ]
}