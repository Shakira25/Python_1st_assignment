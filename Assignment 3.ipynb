{
  "nbformat": 4,
  "nbformat_minor": 0,
  "metadata": {
    "colab": {
      "name": "Untitled4.ipynb",
      "provenance": [],
      "authorship_tag": "ABX9TyNHZjbjh39NMC+VDkTByjV2",
      "include_colab_link": true
    },
    "kernelspec": {
      "name": "python3",
      "display_name": "Python 3"
    },
    "language_info": {
      "name": "python"
    }
  },
  "cells": [
    {
      "cell_type": "markdown",
      "metadata": {
        "id": "view-in-github",
        "colab_type": "text"
      },
      "source": [
        "<a href=\"https://colab.research.google.com/github/Shakira25/Python_1st_assignment/blob/master/Assignment%203.ipynb\" target=\"_parent\"><img src=\"https://colab.research.google.com/assets/colab-badge.svg\" alt=\"Open In Colab\"/></a>"
      ]
    },
    {
      "cell_type": "code",
      "execution_count": 24,
      "metadata": {
        "colab": {
          "base_uri": "https://localhost:8080/"
        },
        "id": "eWq_5NQhFj9J",
        "outputId": "0ce877b8-0264-429b-892a-c0feac7083a8"
      },
      "outputs": [
        {
          "output_type": "stream",
          "name": "stdout",
          "text": [
            "[350000, 525000, 1750000, 3500000, 2100000, 1225000]\n"
          ]
        },
        {
          "output_type": "execute_result",
          "data": {
            "text/plain": [
              "[350000, 525000, 1662500, 3325000, 1995000, 1163750]"
            ]
          },
          "metadata": {},
          "execution_count": 24
        }
      ],
      "source": [
        "# 1 USD  = 3500 UGX. Convert 100, 150, 500, 1000, 600, 350 USD to UGX. URA levies PAYEE of 5% on all exchanges above 1m UGX. \n",
        "# How much will each customer walk away \n",
        "employees_salaries_in_USD = [100, 150, 500, 1000, 600, 350]\n",
        "employees_salaries_in_UGX =[]\n",
        "employees_salaries_after_URA =[]\n",
        "\n",
        "for employee_salary_in_USD in employees_salaries_in_USD:\n",
        "     employee_salary_in_UGX = employee_salary_in_USD * 3500\n",
        "     employees_salaries_in_UGX.append(employee_salary_in_UGX)\n",
        "print(employees_salaries_in_UGX)\n",
        "\n",
        "for employee_salary_in_UGX in employees_salaries_in_UGX:\n",
        "    if employee_salary_in_UGX > 1000000:\n",
        "      PAYE = employee_salary_in_UGX -(employee_salary_in_UGX * 0.05)\n",
        "      employees_salaries_after_URA.append(PAYE)\n",
        "\n",
        "    else:\n",
        "      employees_salaries_after_URA.append(employee_salary_in_UGX)\n",
        "  \n",
        "[int(x) for x in employees_salaries_after_URA]\n",
        "\n"
      ]
    }
  ]
}