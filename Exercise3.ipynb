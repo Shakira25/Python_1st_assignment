{
  "nbformat": 4,
  "nbformat_minor": 0,
  "metadata": {
    "colab": {
      "name": "Untitled3.ipynb",
      "provenance": [],
      "authorship_tag": "ABX9TyMZ5k09TQz7LgyumLt3e4i/",
      "include_colab_link": true
    },
    "kernelspec": {
      "name": "python3",
      "display_name": "Python 3"
    },
    "language_info": {
      "name": "python"
    }
  },
  "cells": [
    {
      "cell_type": "markdown",
      "metadata": {
        "id": "view-in-github",
        "colab_type": "text"
      },
      "source": [
        "<a href=\"https://colab.research.google.com/github/Shakira25/Python_1st_assignment/blob/master/Exercise3.ipynb\" target=\"_parent\"><img src=\"https://colab.research.google.com/assets/colab-badge.svg\" alt=\"Open In Colab\"/></a>"
      ]
    },
    {
      "cell_type": "code",
      "execution_count": 1,
      "metadata": {
        "colab": {
          "base_uri": "https://localhost:8080/"
        },
        "id": "Exh8LfDwdyKZ",
        "outputId": "7e8331be-efd6-455b-e503-d7357fd1d8b2"
      },
      "outputs": [
        {
          "output_type": "stream",
          "name": "stdout",
          "text": [
            "350000\n",
            "525000\n",
            "1750000\n",
            "3500000\n",
            "2100000\n",
            "1225000\n",
            "[350000, 525000, 1750000, 3500000, 2100000, 1225000]\n"
          ]
        }
      ],
      "source": [
        "# 1 USD  = 3500 UGX. Convert 100, 150, 500, 1000, 600, 350 USD to UGX. URA levies PAYEE of 5% on all exchanges above 1m UGX. \n",
        "# How much will each customer walk away \n",
        "employee_salaries_in_USD = [100, 150, 500, 1000, 600, 350]\n",
        "employee_salaries_in_UGX =[]\n",
        "for employee_salary_in_USD in employee_salaries_in_USD:\n",
        "    employee_salary_in_UGX = employee_salary_in_USD * 3500\n",
        "    print(employee_salary_in_UGX)\n",
        "    employee_salaries_in_UGX.append(employee_salary_in_UGX)\n",
        "    \n",
        "print(employee_salaries_in_UGX)\n",
        "    \n"
      ]
    },
    {
      "cell_type": "code",
      "source": [
        "employees_salaries_in_UGX = [350000, 525000, 1750000, 3500000, 2100000, 1225000]\n",
        "employees_salaries_after_URA = []\n",
        "\n",
        "for employee_salary_in_UGX in employees_salaries_in_UGX:\n",
        "\n",
        "  if employee_salary_in_UGX > 1000000:\n",
        "    PAYE = employee_salary_in_UGX - (employee_salary_in_UGX * (5/100)) \n",
        "    employees_salaries_after_URA.append(PAYE)\n",
        "  else:\n",
        "    employees_salaries_after_URA.append(employee_salary_in_UGX)\n",
        "\n",
        "\n",
        "print(employees_salaries_after_URA)"
      ],
      "metadata": {
        "colab": {
          "base_uri": "https://localhost:8080/"
        },
        "id": "mFGvpHvYd40c",
        "outputId": "f6fd7fec-9e8f-44c5-90b4-d46b2b6b6e73"
      },
      "execution_count": 2,
      "outputs": [
        {
          "output_type": "stream",
          "name": "stdout",
          "text": [
            "[350000, 525000, 1662500.0, 3325000.0, 1995000.0, 1163750.0]\n"
          ]
        }
      ]
    }
  ]
}