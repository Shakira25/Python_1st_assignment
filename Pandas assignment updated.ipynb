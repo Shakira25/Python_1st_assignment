{
  "cells": [
    {
      "cell_type": "markdown",
      "metadata": {
        "id": "view-in-github",
        "colab_type": "text"
      },
      "source": [
        "<a href=\"https://colab.research.google.com/github/Shakira25/Python_1st_assignment/blob/master/Pandas%20assignment%20updated.ipynb\" target=\"_parent\"><img src=\"https://colab.research.google.com/assets/colab-badge.svg\" alt=\"Open In Colab\"/></a>"
      ]
    },
    {
      "cell_type": "code",
      "execution_count": null,
      "metadata": {
        "id": "Iu_Odh_KAXlZ"
      },
      "outputs": [],
      "source": [
        "import pandas as pd\n",
        "import matplotlib.pyplot as plt\n"
      ]
    },
    {
      "cell_type": "code",
      "execution_count": null,
      "metadata": {
        "id": "Sb1xOZPNAw4S"
      },
      "outputs": [],
      "source": [
        "sales = pd.read_csv('sales.csv')\n"
      ]
    },
    {
      "cell_type": "code",
      "execution_count": null,
      "metadata": {
        "colab": {
          "base_uri": "https://localhost:8080/",
          "height": 423
        },
        "id": "hwpFHVGHCvjp",
        "outputId": "6de972a9-97c1-49e7-fd1e-1f538f3c0574"
      },
      "outputs": [
        {
          "data": {
            "text/html": [
              "\n",
              "  <div id=\"df-b07988fc-b7dc-4e80-a6c0-25cf758f5163\">\n",
              "    <div class=\"colab-df-container\">\n",
              "      <div>\n",
              "<style scoped>\n",
              "    .dataframe tbody tr th:only-of-type {\n",
              "        vertical-align: middle;\n",
              "    }\n",
              "\n",
              "    .dataframe tbody tr th {\n",
              "        vertical-align: top;\n",
              "    }\n",
              "\n",
              "    .dataframe thead th {\n",
              "        text-align: right;\n",
              "    }\n",
              "</style>\n",
              "<table border=\"1\" class=\"dataframe\">\n",
              "  <thead>\n",
              "    <tr style=\"text-align: right;\">\n",
              "      <th></th>\n",
              "      <th>Date</th>\n",
              "      <th>Time</th>\n",
              "      <th>Trade Name</th>\n",
              "      <th>Generic Name</th>\n",
              "      <th>Quantity</th>\n",
              "      <th>Amount</th>\n",
              "      <th>Profit</th>\n",
              "      <th>Dispenser</th>\n",
              "    </tr>\n",
              "  </thead>\n",
              "  <tbody>\n",
              "    <tr>\n",
              "      <th>0</th>\n",
              "      <td>31/12/2021</td>\n",
              "      <td>2:21 pm</td>\n",
              "      <td>Azithro 250mg (Swazi)</td>\n",
              "      <td>Azithro 250mg (Swazi)</td>\n",
              "      <td>40</td>\n",
              "      <td>91920.0</td>\n",
              "      <td>17920.0</td>\n",
              "      <td>pharouk kaks</td>\n",
              "    </tr>\n",
              "    <tr>\n",
              "      <th>1</th>\n",
              "      <td>31/12/2021</td>\n",
              "      <td>2:21 pm</td>\n",
              "      <td>Azithro 500mg (Turkey)</td>\n",
              "      <td>Azithro 500mg</td>\n",
              "      <td>10</td>\n",
              "      <td>70500.0</td>\n",
              "      <td>5500.0</td>\n",
              "      <td>pharouk kaks</td>\n",
              "    </tr>\n",
              "    <tr>\n",
              "      <th>2</th>\n",
              "      <td>31/12/2021</td>\n",
              "      <td>2:21 pm</td>\n",
              "      <td>Mediven S Ointment</td>\n",
              "      <td>Mediven S Ointment</td>\n",
              "      <td>5</td>\n",
              "      <td>31500.0</td>\n",
              "      <td>1500.0</td>\n",
              "      <td>pharouk kaks</td>\n",
              "    </tr>\n",
              "    <tr>\n",
              "      <th>3</th>\n",
              "      <td>31/12/2021</td>\n",
              "      <td>2:21 pm</td>\n",
              "      <td>Clindamycin caps 150mg UK</td>\n",
              "      <td>Clindamycin caps 150mg UK</td>\n",
              "      <td>3</td>\n",
              "      <td>72000.0</td>\n",
              "      <td>15000.0</td>\n",
              "      <td>pharouk kaks</td>\n",
              "    </tr>\n",
              "    <tr>\n",
              "      <th>4</th>\n",
              "      <td>31/12/2021</td>\n",
              "      <td>2:21 pm</td>\n",
              "      <td>Dicloday Gel 30mg</td>\n",
              "      <td>Dicloday Gel 30mg</td>\n",
              "      <td>12</td>\n",
              "      <td>25200.0</td>\n",
              "      <td>2400.0</td>\n",
              "      <td>pharouk kaks</td>\n",
              "    </tr>\n",
              "    <tr>\n",
              "      <th>...</th>\n",
              "      <td>...</td>\n",
              "      <td>...</td>\n",
              "      <td>...</td>\n",
              "      <td>...</td>\n",
              "      <td>...</td>\n",
              "      <td>...</td>\n",
              "      <td>...</td>\n",
              "      <td>...</td>\n",
              "    </tr>\n",
              "    <tr>\n",
              "      <th>47234</th>\n",
              "      <td>01/12/2021</td>\n",
              "      <td>7:16 am</td>\n",
              "      <td>Flufed Tabs 10x10</td>\n",
              "      <td>Flufed Tabs 10x10</td>\n",
              "      <td>0.7</td>\n",
              "      <td>7000.0</td>\n",
              "      <td>700.0</td>\n",
              "      <td>CRISTOPHER</td>\n",
              "    </tr>\n",
              "    <tr>\n",
              "      <th>47235</th>\n",
              "      <td>01/12/2021</td>\n",
              "      <td>7:16 am</td>\n",
              "      <td>Lonart Tab 24s</td>\n",
              "      <td>Lonart Tab 24's</td>\n",
              "      <td>3</td>\n",
              "      <td>7200.0</td>\n",
              "      <td>1275.0</td>\n",
              "      <td>CRISTOPHER</td>\n",
              "    </tr>\n",
              "    <tr>\n",
              "      <th>47236</th>\n",
              "      <td>01/12/2021</td>\n",
              "      <td>7:16 am</td>\n",
              "      <td>Cofta Tabs 100s</td>\n",
              "      <td>Cofta Tabs 100's</td>\n",
              "      <td>1</td>\n",
              "      <td>10500.0</td>\n",
              "      <td>1300.0</td>\n",
              "      <td>CRISTOPHER</td>\n",
              "    </tr>\n",
              "    <tr>\n",
              "      <th>47237</th>\n",
              "      <td>01/12/2021</td>\n",
              "      <td>7:16 am</td>\n",
              "      <td>Actinac Plus 20s</td>\n",
              "      <td>Actinac Plus 20's</td>\n",
              "      <td>1</td>\n",
              "      <td>4000.0</td>\n",
              "      <td>300.0</td>\n",
              "      <td>CRISTOPHER</td>\n",
              "    </tr>\n",
              "    <tr>\n",
              "      <th>47238</th>\n",
              "      <td>01/12/2021</td>\n",
              "      <td>7:16 am</td>\n",
              "      <td>Ampiclox Caps (India) 10x10</td>\n",
              "      <td>Ampiclox Caps (India) 10x10</td>\n",
              "      <td>1</td>\n",
              "      <td>11500.0</td>\n",
              "      <td>1500.0</td>\n",
              "      <td>CRISTOPHER</td>\n",
              "    </tr>\n",
              "  </tbody>\n",
              "</table>\n",
              "<p>47239 rows × 8 columns</p>\n",
              "</div>\n",
              "      <button class=\"colab-df-convert\" onclick=\"convertToInteractive('df-b07988fc-b7dc-4e80-a6c0-25cf758f5163')\"\n",
              "              title=\"Convert this dataframe to an interactive table.\"\n",
              "              style=\"display:none;\">\n",
              "        \n",
              "  <svg xmlns=\"http://www.w3.org/2000/svg\" height=\"24px\"viewBox=\"0 0 24 24\"\n",
              "       width=\"24px\">\n",
              "    <path d=\"M0 0h24v24H0V0z\" fill=\"none\"/>\n",
              "    <path d=\"M18.56 5.44l.94 2.06.94-2.06 2.06-.94-2.06-.94-.94-2.06-.94 2.06-2.06.94zm-11 1L8.5 8.5l.94-2.06 2.06-.94-2.06-.94L8.5 2.5l-.94 2.06-2.06.94zm10 10l.94 2.06.94-2.06 2.06-.94-2.06-.94-.94-2.06-.94 2.06-2.06.94z\"/><path d=\"M17.41 7.96l-1.37-1.37c-.4-.4-.92-.59-1.43-.59-.52 0-1.04.2-1.43.59L10.3 9.45l-7.72 7.72c-.78.78-.78 2.05 0 2.83L4 21.41c.39.39.9.59 1.41.59.51 0 1.02-.2 1.41-.59l7.78-7.78 2.81-2.81c.8-.78.8-2.07 0-2.86zM5.41 20L4 18.59l7.72-7.72 1.47 1.35L5.41 20z\"/>\n",
              "  </svg>\n",
              "      </button>\n",
              "      \n",
              "  <style>\n",
              "    .colab-df-container {\n",
              "      display:flex;\n",
              "      flex-wrap:wrap;\n",
              "      gap: 12px;\n",
              "    }\n",
              "\n",
              "    .colab-df-convert {\n",
              "      background-color: #E8F0FE;\n",
              "      border: none;\n",
              "      border-radius: 50%;\n",
              "      cursor: pointer;\n",
              "      display: none;\n",
              "      fill: #1967D2;\n",
              "      height: 32px;\n",
              "      padding: 0 0 0 0;\n",
              "      width: 32px;\n",
              "    }\n",
              "\n",
              "    .colab-df-convert:hover {\n",
              "      background-color: #E2EBFA;\n",
              "      box-shadow: 0px 1px 2px rgba(60, 64, 67, 0.3), 0px 1px 3px 1px rgba(60, 64, 67, 0.15);\n",
              "      fill: #174EA6;\n",
              "    }\n",
              "\n",
              "    [theme=dark] .colab-df-convert {\n",
              "      background-color: #3B4455;\n",
              "      fill: #D2E3FC;\n",
              "    }\n",
              "\n",
              "    [theme=dark] .colab-df-convert:hover {\n",
              "      background-color: #434B5C;\n",
              "      box-shadow: 0px 1px 3px 1px rgba(0, 0, 0, 0.15);\n",
              "      filter: drop-shadow(0px 1px 2px rgba(0, 0, 0, 0.3));\n",
              "      fill: #FFFFFF;\n",
              "    }\n",
              "  </style>\n",
              "\n",
              "      <script>\n",
              "        const buttonEl =\n",
              "          document.querySelector('#df-b07988fc-b7dc-4e80-a6c0-25cf758f5163 button.colab-df-convert');\n",
              "        buttonEl.style.display =\n",
              "          google.colab.kernel.accessAllowed ? 'block' : 'none';\n",
              "\n",
              "        async function convertToInteractive(key) {\n",
              "          const element = document.querySelector('#df-b07988fc-b7dc-4e80-a6c0-25cf758f5163');\n",
              "          const dataTable =\n",
              "            await google.colab.kernel.invokeFunction('convertToInteractive',\n",
              "                                                     [key], {});\n",
              "          if (!dataTable) return;\n",
              "\n",
              "          const docLinkHtml = 'Like what you see? Visit the ' +\n",
              "            '<a target=\"_blank\" href=https://colab.research.google.com/notebooks/data_table.ipynb>data table notebook</a>'\n",
              "            + ' to learn more about interactive tables.';\n",
              "          element.innerHTML = '';\n",
              "          dataTable['output_type'] = 'display_data';\n",
              "          await google.colab.output.renderOutput(dataTable, element);\n",
              "          const docLink = document.createElement('div');\n",
              "          docLink.innerHTML = docLinkHtml;\n",
              "          element.appendChild(docLink);\n",
              "        }\n",
              "      </script>\n",
              "    </div>\n",
              "  </div>\n",
              "  "
            ],
            "text/plain": [
              "             Date     Time  ...   Profit     Dispenser\n",
              "0      31/12/2021  2:21 pm  ...  17920.0  pharouk kaks\n",
              "1      31/12/2021  2:21 pm  ...   5500.0  pharouk kaks\n",
              "2      31/12/2021  2:21 pm  ...   1500.0  pharouk kaks\n",
              "3      31/12/2021  2:21 pm  ...  15000.0  pharouk kaks\n",
              "4      31/12/2021  2:21 pm  ...   2400.0  pharouk kaks\n",
              "...           ...      ...  ...      ...           ...\n",
              "47234  01/12/2021  7:16 am  ...    700.0    CRISTOPHER\n",
              "47235  01/12/2021  7:16 am  ...   1275.0    CRISTOPHER\n",
              "47236  01/12/2021  7:16 am  ...   1300.0    CRISTOPHER\n",
              "47237  01/12/2021  7:16 am  ...    300.0    CRISTOPHER\n",
              "47238  01/12/2021  7:16 am  ...   1500.0    CRISTOPHER\n",
              "\n",
              "[47239 rows x 8 columns]"
            ]
          },
          "execution_count": 12,
          "metadata": {},
          "output_type": "execute_result"
        }
      ],
      "source": [
        "sales"
      ]
    },
    {
      "cell_type": "code",
      "execution_count": null,
      "metadata": {
        "id": "5XuOM4UmDKDV"
      },
      "outputs": [],
      "source": [
        ""
      ]
    },
    {
      "cell_type": "code",
      "execution_count": null,
      "metadata": {
        "colab": {
          "base_uri": "https://localhost:8080/"
        },
        "id": "nZUGAOjdA5p8",
        "outputId": "4fd6887d-4185-40b8-8e7a-44ee7cd1845d"
      },
      "outputs": [
        {
          "data": {
            "text/plain": [
              "998657002"
            ]
          },
          "execution_count": 6,
          "metadata": {},
          "output_type": "execute_result"
        }
      ],
      "source": [
        "# Total sales made in the month of Dec\n",
        "round(sales[\"Amount\"].sum())"
      ]
    },
    {
      "cell_type": "code",
      "execution_count": null,
      "metadata": {
        "colab": {
          "base_uri": "https://localhost:8080/"
        },
        "id": "x75ChFasBU8M",
        "outputId": "04c613f0-7336-475f-f2eb-d88af8105523"
      },
      "outputs": [
        {
          "data": {
            "text/plain": [
              "Profit                526364\n",
              "Trade Name    zecuf tabs 20s\n",
              "dtype: object"
            ]
          },
          "execution_count": 7,
          "metadata": {},
          "output_type": "execute_result"
        }
      ],
      "source": [
        "# Most profitable item was Zecuf tabs\n",
        "sales[[\"Profit\", \"Trade Name\"]].max()"
      ]
    },
    {
      "cell_type": "code",
      "execution_count": null,
      "metadata": {
        "colab": {
          "base_uri": "https://localhost:8080/"
        },
        "id": "VnXJmpBxBiyG",
        "outputId": "174725a9-713e-4360-9f78-d8c3070a661c"
      },
      "outputs": [
        {
          "data": {
            "text/plain": [
              "Profit       -2.5833e+06\n",
              "Trade Name    ALARID E/D\n",
              "dtype: object"
            ]
          },
          "execution_count": 8,
          "metadata": {},
          "output_type": "execute_result"
        }
      ],
      "source": [
        "# Least profitable item was Alarid E/D\n",
        "sales[[\"Profit\", \"Trade Name\"]].min()"
      ]
    },
    {
      "cell_type": "code",
      "execution_count": null,
      "metadata": {
        "colab": {
          "base_uri": "https://localhost:8080/"
        },
        "id": "b-BbYn2wBw4G",
        "outputId": "acbae5c5-821f-4ccf-f575-a29f543d56ac"
      },
      "outputs": [
        {
          "name": "stdout",
          "output_type": "stream",
          "text": [
            "Amount    351389036.0\n",
            "Profit     22718238.0\n",
            "Name: CRISTOPHER, dtype: float64\n"
          ]
        }
      ],
      "source": [
        "# The dispenser that sold the most was Christopher\n",
        "groupedDispenserSales = sales.groupby([\"Dispenser\"]).sum()\n",
        "sorted = groupedDispenserSales.sort_values(['Amount'], ascending=[False])\n",
        "row_1=sorted.iloc[0]\n",
        "print(round(row_1))\n",
        "\n"
      ]
    },
    {
      "cell_type": "code",
      "execution_count": null,
      "metadata": {
        "colab": {
          "base_uri": "https://localhost:8080/"
        },
        "id": "dpcvM1UuCEVK",
        "outputId": "a8cc607d-abe1-49bb-d0d2-4036bc3718bf"
      },
      "outputs": [
        {
          "name": "stdout",
          "output_type": "stream",
          "text": [
            "Amount    3734667.0\n",
            "Profit    1012831.0\n",
            "Name: Mubarak, dtype: float64\n"
          ]
        }
      ],
      "source": [
        "# The dispenser that had the least sales was Mubarak\n",
        "groupedDispenserSales = sales.groupby([\"Dispenser\"]).sum()\n",
        "sorted = groupedDispenserSales.sort_values(['Amount'], ascending=[True])\n",
        "row_1=sorted.iloc[0]\n",
        "print(round(row_1))"
      ]
    },
    {
      "cell_type": "code",
      "execution_count": null,
      "metadata": {
        "colab": {
          "base_uri": "https://localhost:8080/"
        },
        "id": "ajEA0Fq3DkqH",
        "outputId": "db66b2d4-a622-4ad2-e905-1427601c85b4"
      },
      "outputs": [
        {
          "name": "stdout",
          "output_type": "stream",
          "text": [
            "Amount    35326931.0\n",
            "Profit     1367177.0\n",
            "Name: Ampiclox Caps (India) 10x10, dtype: float64\n"
          ]
        }
      ],
      "source": [
        "# The item interms of quantity that had the most sales was Ampiclox\n",
        "groupedSales = sales.groupby([\"Trade Name\"]).sum()\n",
        "sorted = groupedSales.sort_values(['Amount'], ascending=[False])\n",
        "row_1=sorted.iloc[0]\n",
        "print(row_1)\n",
        "\n"
      ]
    },
    {
      "cell_type": "code",
      "execution_count": null,
      "metadata": {
        "colab": {
          "base_uri": "https://localhost:8080/"
        },
        "id": "Nglb95YWLiO8",
        "outputId": "969e0a9d-bdbe-4798-b631-0244d03ff154"
      },
      "outputs": [
        {
          "name": "stdout",
          "output_type": "stream",
          "text": [
            "Amount    78379137.0\n",
            "Profit     4797378.0\n",
            "Name: 31/12/2021, dtype: float64\n"
          ]
        }
      ],
      "source": [
        "# The date that had the most sales was 31 Dec 2021 and the amount was 78379137\n",
        "Total_sales_per_day = sales.groupby([\"Date\"]).sum()\n",
        "sorted = Total_sales_per_day.sort_values(['Amount'], ascending=[False])\n",
        "print(round(sorted).iloc[0])\n",
        "\n"
      ]
    },
    {
      "cell_type": "code",
      "execution_count": 10,
      "metadata": {
        "id": "_3s5qQ_fTxUy",
        "colab": {
          "base_uri": "https://localhost:8080/",
          "height": 307
        },
        "outputId": "a099c2a8-61ee-463e-c88e-ea3949641f52"
      },
      "outputs": [
        {
          "output_type": "execute_result",
          "data": {
            "text/plain": [
              "<matplotlib.axes._subplots.AxesSubplot at 0x7f09d90eb6d0>"
            ]
          },
          "metadata": {},
          "execution_count": 10
        },
        {
          "output_type": "display_data",
          "data": {
            "image/png": "[encoded data removed]",
            "text/plain": [
              "<Figure size 432x288 with 1 Axes>"
            ]
          },
          "metadata": {
            "needs_background": "light"
          }
        }
      ],
      "source": [
        "import pandas as pd\n",
        "import matplotlib.pyplot as plt\n",
        "import seaborn as sns\n",
        "sales = pd.read_csv(\"sales.csv\")\n",
        "\n",
        "groupedDispenserSales = sales.groupby([\"Dispenser\"],as_index=False).sum()\n",
        "Top3 = groupedDispenserSales.sort_values(['Amount'], ascending=True)\n",
        "y = (round(Top3.iloc[0:3]))\n",
        "sns.barplot(data = y, x = \"Dispenser\", y = \"Amount\")\n",
        "\n",
        "\n",
        "\n"
      ]
    },
    {
      "cell_type": "code",
      "source": [
        "# A bar graph shwoing total sales per person\n",
        "groupedDispenserSales = sales.groupby([\"Dispenser\"],as_index=False).sum()\n",
        "Total = groupedDispenserSales.sort_values(['Amount'], ascending=True)\n",
        "y = (round(Total))\n",
        "chart = sns.barplot(data = y, x = \"Dispenser\", y = \"Amount\")\n",
        "chart.set_xticklabels(chart.get_xticklabels(), rotation=80)\n",
        "plt.title(\"A bar graph showing total sales per person\")"
      ],
      "metadata": {
        "colab": {
          "base_uri": "https://localhost:8080/",
          "height": 370
        },
        "id": "MoJ14irJwyjP",
        "outputId": "ac2e984b-9dc8-46e1-ad2d-8c348d32b40f"
      },
      "execution_count": 13,
      "outputs": [
        {
          "output_type": "execute_result",
          "data": {
            "text/plain": [
              "Text(0.5, 1.0, 'A bar graph showing total sales per person')"
            ]
          },
          "metadata": {},
          "execution_count": 13
        },
        {
          "output_type": "display_data",
          "data": {
            "image/png": "[encoded data removed]",
            "text/plain": [
              "<Figure size 432x288 with 1 Axes>"
            ]
          },
          "metadata": {
            "needs_background": "light"
          }
        }
      ]
    },
    {
      "cell_type": "code",
      "source": [
        "# A line graph shwoing total sales per day\n",
        "SalesPerDay = sales.groupby(['Date'], as_index=True).sum()\n",
        "w = round(SalesPerDay.sort_values([\"Amount\"], ascending = False))\n",
        "\n",
        "chart = sns.lineplot(data = w, x = \"Date\", y = \"Amount\")\n",
        "chart.set_xticklabels(chart.get_xticklabels(), rotation=80)\n",
        "plt.title(\"A line graph showing total sales per day\")"
      ],
      "metadata": {
        "colab": {
          "base_uri": "https://localhost:8080/",
          "height": 302
        },
        "id": "263eHQvIxo8l",
        "outputId": "7130677b-f163-4f22-ab35-c51f796d2402"
      },
      "execution_count": 28,
      "outputs": [
        {
          "output_type": "execute_result",
          "data": {
            "text/plain": [
              "Text(0.5, 1.0, 'A line graph showing total sales per day')"
            ]
          },
          "metadata": {},
          "execution_count": 28
        },
        {
          "output_type": "display_data",
          "data": {
            "image/png": "[encoded data removed]",
            "text/plain": [
              "<Figure size 432x288 with 1 Axes>"
            ]
          },
          "metadata": {
            "needs_background": "light"
          }
        }
      ]
    },
    {
      "cell_type": "code",
      "source": [
        "# A bar graph showing both sales and profit for the top 10 most profitable items\n",
        "SalesOftop10 = sales.groupby(['Trade Name'],as_index=True).sum()\n",
        "Top10 = round(SalesOftop10.sort_values(['Amount', 'Profit'], ascending = False)).iloc[0:10]\n",
        "\n",
        "print(Top10)"
      ],
      "metadata": {
        "colab": {
          "base_uri": "https://localhost:8080/"
        },
        "id": "DI38ySg61t5a",
        "outputId": "8bc1378a-9a56-4197-c281-ec83d66b01e9"
      },
      "execution_count": 37,
      "outputs": [
        {
          "output_type": "stream",
          "name": "stdout",
          "text": [
            "                                  Amount     Profit\n",
            "Trade Name                                         \n",
            "Ampiclox Caps (India) 10x10   35326931.0  1367177.0\n",
            "Lonart Tab 24s                31461650.0  2224055.0\n",
            "Artesunate Inj. 60ml          28478700.0  1856500.0\n",
            "Paracetamol tabs              20563096.0  1014456.0\n",
            "Palaxin Tabs 9s               18411737.0 -2400989.0\n",
            "Amoxicillin Caps 250mg 10x10  12883900.0   556422.0\n",
            "Ceftriaxone Inj (Cadila)      12673655.0   785825.0\n",
            "Panadol Extra 100s            10736143.0   612345.0\n",
            "Erythromycin Tabs 250mg       10388210.0   581308.0\n",
            "Malaria Test Kits              9743720.0   976390.0\n"
          ]
        }
      ]
    }
  ],
  "metadata": {
    "colab": {
      "name": "Untitled5.ipynb",
      "provenance": [],
      "include_colab_link": true
    },
    "kernelspec": {
      "display_name": "Python 3",
      "name": "python3"
    },
    "language_info": {
      "name": "python"
    }
  },
  "nbformat": 4,
  "nbformat_minor": 0
}