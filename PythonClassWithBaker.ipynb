{
  "nbformat": 4,
  "nbformat_minor": 0,
  "metadata": {
    "colab": {
      "name": "PythonClassWithBaker.ipynb",
      "provenance": [],
      "authorship_tag": "ABX9TyMoVxLm4vYhCtXuXI0Am9AE",
      "include_colab_link": true
    },
    "kernelspec": {
      "name": "python3",
      "display_name": "Python 3"
    },
    "language_info": {
      "name": "python"
    }
  },
  "cells": [
    {
      "cell_type": "markdown",
      "metadata": {
        "id": "view-in-github",
        "colab_type": "text"
      },
      "source": [
        "<a href=\"https://colab.research.google.com/github/Shakira25/Python_1st_assignment/blob/master/PythonClassWithBaker.ipynb\" target=\"_parent\"><img src=\"https://colab.research.google.com/assets/colab-badge.svg\" alt=\"Open In Colab\"/></a>"
      ]
    },
    {
      "cell_type": "code",
      "execution_count": 1,
      "metadata": {
        "colab": {
          "base_uri": "https://localhost:8080/"
        },
        "id": "fltvTm7mEkof",
        "outputId": "67539b56-8a52-4e95-bd7c-5337b2feab27"
      },
      "outputs": [
        {
          "output_type": "stream",
          "name": "stdout",
          "text": [
            "absl-py==0.12.0\n",
            "alabaster==0.7.12\n",
            "albumentations==0.1.12\n",
            "altair==4.1.0\n",
            "appdirs==1.4.4\n",
            "argcomplete==1.12.3\n",
            "argon2-cffi==21.1.0\n",
            "arviz==0.11.4\n",
            "astor==0.8.1\n",
            "astropy==4.3.1\n",
            "astunparse==1.6.3\n",
            "atari-py==0.2.9\n",
            "atomicwrites==1.4.0\n",
            "attrs==21.2.0\n",
            "audioread==2.1.9\n",
            "autograd==1.3\n",
            "Babel==2.9.1\n",
            "backcall==0.2.0\n",
            "beautifulsoup4==4.6.3\n",
            "bleach==4.1.0\n",
            "blis==0.4.1\n",
            "bokeh==2.3.3\n",
            "Bottleneck==1.3.2\n",
            "branca==0.4.2\n",
            "bs4==0.0.1\n",
            "CacheControl==0.12.10\n",
            "cached-property==1.5.2\n",
            "cachetools==4.2.4\n",
            "catalogue==1.0.0\n",
            "certifi==2021.10.8\n",
            "cffi==1.15.0\n",
            "cftime==1.5.1.1\n",
            "chardet==3.0.4\n",
            "charset-normalizer==2.0.8\n",
            "click==7.1.2\n",
            "cloudpickle==1.3.0\n",
            "cmake==3.12.0\n",
            "cmdstanpy==0.9.5\n",
            "colorcet==2.0.6\n",
            "colorlover==0.3.0\n",
            "community==1.0.0b1\n",
            "contextlib2==0.5.5\n",
            "convertdate==2.3.2\n",
            "coverage==3.7.1\n",
            "coveralls==0.5\n",
            "crcmod==1.7\n",
            "cufflinks==0.17.3\n",
            "cvxopt==1.2.7\n",
            "cvxpy==1.0.31\n",
            "cycler==0.11.0\n",
            "cymem==2.0.6\n",
            "Cython==0.29.24\n",
            "daft==0.0.4\n",
            "dask==2.12.0\n",
            "datascience==0.10.6\n",
            "debugpy==1.0.0\n",
            "decorator==4.4.2\n",
            "defusedxml==0.7.1\n",
            "descartes==1.1.0\n",
            "dill==0.3.4\n",
            "distributed==1.25.3\n",
            "dlib @ file:///dlib-19.18.0-cp37-cp37m-linux_x86_64.whl\n",
            "dm-tree==0.1.6\n",
            "docopt==0.6.2\n",
            "docutils==0.17.1\n",
            "dopamine-rl==1.0.5\n",
            "earthengine-api==0.1.290\n",
            "easydict==1.9\n",
            "ecos==2.0.7.post1\n",
            "editdistance==0.5.3\n",
            "en-core-web-sm @ https://github.com/explosion/spacy-models/releases/download/en_core_web_sm-2.2.5/en_core_web_sm-2.2.5.tar.gz\n",
            "entrypoints==0.3\n",
            "ephem==4.1\n",
            "et-xmlfile==1.1.0\n",
            "fa2==0.3.5\n",
            "fastai==1.0.61\n",
            "fastdtw==0.3.4\n",
            "fastprogress==1.0.0\n",
            "fastrlock==0.8\n",
            "fbprophet==0.7.1\n",
            "feather-format==0.4.1\n",
            "filelock==3.4.0\n",
            "firebase-admin==4.4.0\n",
            "fix-yahoo-finance==0.0.22\n",
            "Flask==1.1.4\n",
            "flatbuffers==2.0\n",
            "folium==0.8.3\n",
            "future==0.16.0\n",
            "gast==0.4.0\n",
            "GDAL==2.2.2\n",
            "gdown==3.6.4\n",
            "gensim==3.6.0\n",
            "geographiclib==1.52\n",
            "geopy==1.17.0\n",
            "gin-config==0.5.0\n",
            "glob2==0.7\n",
            "google==2.0.3\n",
            "google-api-core==1.26.3\n",
            "google-api-python-client==1.12.8\n",
            "google-auth==1.35.0\n",
            "google-auth-httplib2==0.0.4\n",
            "google-auth-oauthlib==0.4.6\n",
            "google-cloud-bigquery==1.21.0\n",
            "google-cloud-bigquery-storage==1.1.0\n",
            "google-cloud-core==1.0.3\n",
            "google-cloud-datastore==1.8.0\n",
            "google-cloud-firestore==1.7.0\n",
            "google-cloud-language==1.2.0\n",
            "google-cloud-storage==1.18.1\n",
            "google-cloud-translate==1.5.0\n",
            "google-colab @ file:///colabtools/dist/google-colab-1.0.0.tar.gz\n",
            "google-pasta==0.2.0\n",
            "google-resumable-media==0.4.1\n",
            "googleapis-common-protos==1.53.0\n",
            "googledrivedownloader==0.4\n",
            "graphviz==0.10.1\n",
            "greenlet==1.1.2\n",
            "grpcio==1.42.0\n",
            "gspread==3.0.1\n",
            "gspread-dataframe==3.0.8\n",
            "gym==0.17.3\n",
            "h5py==3.1.0\n",
            "HeapDict==1.0.1\n",
            "hijri-converter==2.2.2\n",
            "holidays==0.10.5.2\n",
            "holoviews==1.14.6\n",
            "html5lib==1.0.1\n",
            "httpimport==0.5.18\n",
            "httplib2==0.17.4\n",
            "httplib2shim==0.0.3\n",
            "humanize==0.5.1\n",
            "hyperopt==0.1.2\n",
            "ideep4py==2.0.0.post3\n",
            "idna==2.10\n",
            "imageio==2.4.1\n",
            "imagesize==1.3.0\n",
            "imbalanced-learn==0.8.1\n",
            "imblearn==0.0\n",
            "imgaug==0.2.9\n",
            "importlib-metadata==4.8.2\n",
            "importlib-resources==5.4.0\n",
            "imutils==0.5.4\n",
            "inflect==2.1.0\n",
            "iniconfig==1.1.1\n",
            "intel-openmp==2021.4.0\n",
            "intervaltree==2.1.0\n",
            "ipykernel==4.10.1\n",
            "ipython==5.5.0\n",
            "ipython-genutils==0.2.0\n",
            "ipython-sql==0.3.9\n",
            "ipywidgets==7.6.5\n",
            "itsdangerous==1.1.0\n",
            "jax==0.2.25\n",
            "jaxlib @ https://storage.googleapis.com/jax-releases/cuda111/jaxlib-0.1.71+cuda111-cp37-none-manylinux2010_x86_64.whl\n",
            "jdcal==1.4.1\n",
            "jedi==0.18.1\n",
            "jieba==0.42.1\n",
            "Jinja2==2.11.3\n",
            "joblib==1.1.0\n",
            "jpeg4py==0.1.4\n",
            "jsonschema==2.6.0\n",
            "jupyter==1.0.0\n",
            "jupyter-client==5.3.5\n",
            "jupyter-console==5.2.0\n",
            "jupyter-core==4.9.1\n",
            "jupyterlab-pygments==0.1.2\n",
            "jupyterlab-widgets==1.0.2\n",
            "kaggle==1.5.12\n",
            "kapre==0.3.6\n",
            "keras==2.7.0\n",
            "Keras-Preprocessing==1.1.2\n",
            "keras-vis==0.4.1\n",
            "kiwisolver==1.3.2\n",
            "korean-lunar-calendar==0.2.1\n",
            "libclang==12.0.0\n",
            "librosa==0.8.1\n",
            "lightgbm==2.2.3\n",
            "llvmlite==0.34.0\n",
            "lmdb==0.99\n",
            "LunarCalendar==0.0.9\n",
            "lxml==4.2.6\n",
            "Markdown==3.3.6\n",
            "MarkupSafe==2.0.1\n",
            "matplotlib==3.2.2\n",
            "matplotlib-inline==0.1.3\n",
            "matplotlib-venn==0.11.6\n",
            "missingno==0.5.0\n",
            "mistune==0.8.4\n",
            "mizani==0.6.0\n",
            "mkl==2019.0\n",
            "mlxtend==0.14.0\n",
            "more-itertools==8.12.0\n",
            "moviepy==0.2.3.5\n",
            "mpmath==1.2.1\n",
            "msgpack==1.0.3\n",
            "multiprocess==0.70.12.2\n",
            "multitasking==0.0.10\n",
            "murmurhash==1.0.6\n",
            "music21==5.5.0\n",
            "natsort==5.5.0\n",
            "nbclient==0.5.9\n",
            "nbconvert==5.6.1\n",
            "nbformat==5.1.3\n",
            "nest-asyncio==1.5.4\n",
            "netCDF4==1.5.8\n",
            "networkx==2.6.3\n",
            "nibabel==3.0.2\n",
            "nltk==3.2.5\n",
            "notebook==5.3.1\n",
            "numba==0.51.2\n",
            "numexpr==2.7.3\n",
            "numpy==1.19.5\n",
            "nvidia-ml-py3==7.352.0\n",
            "oauth2client==4.1.3\n",
            "oauthlib==3.1.1\n",
            "okgrade==0.4.3\n",
            "opencv-contrib-python==4.1.2.30\n",
            "opencv-python==4.1.2.30\n",
            "openpyxl==2.5.9\n",
            "opt-einsum==3.3.0\n",
            "osqp==0.6.2.post0\n",
            "packaging==21.3\n",
            "palettable==3.3.0\n",
            "pandas==1.1.5\n",
            "pandas-datareader==0.9.0\n",
            "pandas-gbq==0.13.3\n",
            "pandas-profiling==1.4.1\n",
            "pandocfilters==1.5.0\n",
            "panel==0.12.1\n",
            "param==1.12.0\n",
            "parso==0.8.3\n",
            "pathlib==1.0.1\n",
            "patsy==0.5.2\n",
            "pep517==0.12.0\n",
            "pexpect==4.8.0\n",
            "pickleshare==0.7.5\n",
            "Pillow==7.1.2\n",
            "pip-tools==6.2.0\n",
            "plac==1.1.3\n",
            "plotly==4.4.1\n",
            "plotnine==0.6.0\n",
            "pluggy==0.7.1\n",
            "pooch==1.5.2\n",
            "portpicker==1.3.9\n",
            "prefetch-generator==1.0.1\n",
            "preshed==3.0.6\n",
            "prettytable==2.4.0\n",
            "progressbar2==3.38.0\n",
            "prometheus-client==0.12.0\n",
            "promise==2.3\n",
            "prompt-toolkit==1.0.18\n",
            "protobuf==3.17.3\n",
            "psutil==5.4.8\n",
            "psycopg2==2.7.6.1\n",
            "ptyprocess==0.7.0\n",
            "py==1.11.0\n",
            "pyarrow==3.0.0\n",
            "pyasn1==0.4.8\n",
            "pyasn1-modules==0.2.8\n",
            "pycocotools==2.0.3\n",
            "pycparser==2.21\n",
            "pyct==0.4.8\n",
            "pydata-google-auth==1.2.0\n",
            "pydot==1.3.0\n",
            "pydot-ng==2.0.0\n",
            "pydotplus==2.0.2\n",
            "PyDrive==1.3.1\n",
            "pyemd==0.5.1\n",
            "pyerfa==2.0.0.1\n",
            "pyglet==1.5.0\n",
            "Pygments==2.6.1\n",
            "pygobject==3.26.1\n",
            "pymc3==3.11.4\n",
            "PyMeeus==0.5.11\n",
            "pymongo==3.12.1\n",
            "pymystem3==0.2.0\n",
            "PyOpenGL==3.1.5\n",
            "pyparsing==3.0.6\n",
            "pyrsistent==0.18.0\n",
            "pysndfile==1.3.8\n",
            "PySocks==1.7.1\n",
            "pystan==2.19.1.1\n",
            "pytest==3.6.4\n",
            "python-apt==0.0.0\n",
            "python-chess==0.23.11\n",
            "python-dateutil==2.8.2\n",
            "python-louvain==0.15\n",
            "python-slugify==5.0.2\n",
            "python-utils==2.5.6\n",
            "pytz==2018.9\n",
            "pyviz-comms==2.1.0\n",
            "PyWavelets==1.2.0\n",
            "PyYAML==3.13\n",
            "pyzmq==22.3.0\n",
            "qdldl==0.1.5.post0\n",
            "qtconsole==5.2.1\n",
            "QtPy==1.11.2\n",
            "regex==2019.12.20\n",
            "requests==2.23.0\n",
            "requests-oauthlib==1.3.0\n",
            "resampy==0.2.2\n",
            "retrying==1.3.3\n",
            "rpy2==3.4.5\n",
            "rsa==4.8\n",
            "scikit-image==0.18.3\n",
            "scikit-learn==1.0.1\n",
            "scipy==1.4.1\n",
            "screen-resolution-extra==0.0.0\n",
            "scs==2.1.4\n",
            "seaborn==0.11.2\n",
            "semver==2.13.0\n",
            "Send2Trash==1.8.0\n",
            "setuptools-git==1.2\n",
            "Shapely==1.8.0\n",
            "simplegeneric==0.8.1\n",
            "six==1.15.0\n",
            "sklearn==0.0\n",
            "sklearn-pandas==1.8.0\n",
            "smart-open==5.2.1\n",
            "snowballstemmer==2.2.0\n",
            "sortedcontainers==2.4.0\n",
            "SoundFile==0.10.3.post1\n",
            "spacy==2.2.4\n",
            "Sphinx==1.8.6\n",
            "sphinxcontrib-serializinghtml==1.1.5\n",
            "sphinxcontrib-websupport==1.2.4\n",
            "SQLAlchemy==1.4.27\n",
            "sqlparse==0.4.2\n",
            "srsly==1.0.5\n",
            "statsmodels==0.10.2\n",
            "sympy==1.7.1\n",
            "tables==3.4.4\n",
            "tabulate==0.8.9\n",
            "tblib==1.7.0\n",
            "tensorboard==2.7.0\n",
            "tensorboard-data-server==0.6.1\n",
            "tensorboard-plugin-wit==1.8.0\n",
            "tensorflow @ file:///tensorflow-2.7.0-cp37-cp37m-linux_x86_64.whl\n",
            "tensorflow-datasets==4.0.1\n",
            "tensorflow-estimator==2.7.0\n",
            "tensorflow-gcs-config==2.7.0\n",
            "tensorflow-hub==0.12.0\n",
            "tensorflow-io-gcs-filesystem==0.22.0\n",
            "tensorflow-metadata==1.4.0\n",
            "tensorflow-probability==0.15.0\n",
            "termcolor==1.1.0\n",
            "terminado==0.12.1\n",
            "testpath==0.5.0\n",
            "text-unidecode==1.3\n",
            "textblob==0.15.3\n",
            "Theano-PyMC==1.1.2\n",
            "thinc==7.4.0\n",
            "threadpoolctl==3.0.0\n",
            "tifffile==2021.11.2\n",
            "toml==0.10.2\n",
            "tomli==1.2.2\n",
            "toolz==0.11.2\n",
            "torch @ https://download.pytorch.org/whl/cu111/torch-1.10.0%2Bcu111-cp37-cp37m-linux_x86_64.whl\n",
            "torchaudio @ https://download.pytorch.org/whl/cu111/torchaudio-0.10.0%2Bcu111-cp37-cp37m-linux_x86_64.whl\n",
            "torchsummary==1.5.1\n",
            "torchtext==0.11.0\n",
            "torchvision @ https://download.pytorch.org/whl/cu111/torchvision-0.11.1%2Bcu111-cp37-cp37m-linux_x86_64.whl\n",
            "tornado==5.1.1\n",
            "tqdm==4.62.3\n",
            "traitlets==5.1.1\n",
            "tweepy==3.10.0\n",
            "typeguard==2.7.1\n",
            "typing-extensions==3.10.0.2\n",
            "tzlocal==1.5.1\n",
            "uritemplate==3.0.1\n",
            "urllib3==1.24.3\n",
            "vega-datasets==0.9.0\n",
            "wasabi==0.8.2\n",
            "wcwidth==0.2.5\n",
            "webencodings==0.5.1\n",
            "Werkzeug==1.0.1\n",
            "widgetsnbextension==3.5.2\n",
            "wordcloud==1.5.0\n",
            "wrapt==1.13.3\n",
            "xarray==0.18.2\n",
            "xgboost==0.90\n",
            "xkit==0.0.0\n",
            "xlrd==1.1.0\n",
            "xlwt==1.3.0\n",
            "yellowbrick==1.3.post1\n",
            "zict==2.0.0\n",
            "zipp==3.6.0\n"
          ]
        }
      ],
      "source": [
        "pip freeze"
      ]
    },
    {
      "cell_type": "code",
      "source": [
        "num = 1+7\n",
        "\n"
      ],
      "metadata": {
        "id": "1TaKvNxpL0CH"
      },
      "execution_count": 7,
      "outputs": []
    },
    {
      "cell_type": "code",
      "source": [
        "num"
      ],
      "metadata": {
        "colab": {
          "base_uri": "https://localhost:8080/"
        },
        "id": "Jp5al-HIMgrz",
        "outputId": "b4f05214-48fa-4016-cde1-1662ae91e42e"
      },
      "execution_count": 8,
      "outputs": [
        {
          "output_type": "execute_result",
          "data": {
            "text/plain": [
              "8"
            ]
          },
          "metadata": {},
          "execution_count": 8
        }
      ]
    },
    {
      "cell_type": "code",
      "source": [
        "x = 'School'\n",
        "type(x)"
      ],
      "metadata": {
        "colab": {
          "base_uri": "https://localhost:8080/"
        },
        "id": "jumBbKL4Mq7O",
        "outputId": "cc202ec4-1640-4fcc-e543-a118765ed1bc"
      },
      "execution_count": 15,
      "outputs": [
        {
          "output_type": "execute_result",
          "data": {
            "text/plain": [
              "str"
            ]
          },
          "metadata": {},
          "execution_count": 15
        }
      ]
    },
    {
      "cell_type": "code",
      "source": [
        "# Calculating area of a restangle\n",
        "length = 12\n",
        "width = 2\n",
        "\n",
        "area = length * width\n",
        "\n",
        "area\n",
        "\n"
      ],
      "metadata": {
        "colab": {
          "base_uri": "https://localhost:8080/"
        },
        "id": "uYqbQHcaMxD2",
        "outputId": "32ab7f80-4de3-4ea9-d48c-fca3ccd12c7f"
      },
      "execution_count": 12,
      "outputs": [
        {
          "output_type": "execute_result",
          "data": {
            "text/plain": [
              "24"
            ]
          },
          "metadata": {},
          "execution_count": 12
        }
      ]
    },
    {
      "cell_type": "code",
      "source": [
        "type(area)"
      ],
      "metadata": {
        "colab": {
          "base_uri": "https://localhost:8080/"
        },
        "id": "IVQn7JVfOMqo",
        "outputId": "626fc1d0-5164-45d1-8d6c-076be16ac0b1"
      },
      "execution_count": 13,
      "outputs": [
        {
          "output_type": "execute_result",
          "data": {
            "text/plain": [
              "int"
            ]
          },
          "metadata": {},
          "execution_count": 13
        }
      ]
    },
    {
      "cell_type": "code",
      "source": [
        "type(length)"
      ],
      "metadata": {
        "colab": {
          "base_uri": "https://localhost:8080/"
        },
        "id": "tGC7jtRnOQwx",
        "outputId": "cee59015-cc76-4495-cc0f-5d091d0817f8"
      },
      "execution_count": 14,
      "outputs": [
        {
          "output_type": "execute_result",
          "data": {
            "text/plain": [
              "int"
            ]
          },
          "metadata": {},
          "execution_count": 14
        }
      ]
    },
    {
      "cell_type": "code",
      "source": [
        "y = [\"Shakira\", \"Abiagil\", \"Shadia\"]\n"
      ],
      "metadata": {
        "id": "lCFmH2MuOTkn"
      },
      "execution_count": 19,
      "outputs": []
    },
    {
      "cell_type": "code",
      "source": [
        "type(y)"
      ],
      "metadata": {
        "colab": {
          "base_uri": "https://localhost:8080/"
        },
        "id": "-i0-B_P7PClf",
        "outputId": "e0262500-d233-4db1-92fa-09eb47e0bac2"
      },
      "execution_count": 21,
      "outputs": [
        {
          "output_type": "execute_result",
          "data": {
            "text/plain": [
              "list"
            ]
          },
          "metadata": {},
          "execution_count": 21
        }
      ]
    },
    {
      "cell_type": "code",
      "source": [
        "y[0]"
      ],
      "metadata": {
        "colab": {
          "base_uri": "https://localhost:8080/",
          "height": 35
        },
        "id": "JIxPAM0_Nmac",
        "outputId": "4a315885-75d4-4c94-d967-d5b9f3493d57"
      },
      "execution_count": 22,
      "outputs": [
        {
          "output_type": "execute_result",
          "data": {
            "application/vnd.google.colaboratory.intrinsic+json": {
              "type": "string"
            },
            "text/plain": [
              "'Shakira'"
            ]
          },
          "metadata": {},
          "execution_count": 22
        }
      ]
    },
    {
      "cell_type": "code",
      "source": [
        "y = {\"Name\" : \"Shakira\", \"age\" : 28}"
      ],
      "metadata": {
        "id": "hYZEOdxlPsnk"
      },
      "execution_count": 24,
      "outputs": []
    },
    {
      "cell_type": "code",
      "source": [
        "type(y)"
      ],
      "metadata": {
        "colab": {
          "base_uri": "https://localhost:8080/"
        },
        "id": "xGWzHtrxP_jR",
        "outputId": "fae2424d-5591-46f6-d1af-8906b856b6bd"
      },
      "execution_count": 25,
      "outputs": [
        {
          "output_type": "execute_result",
          "data": {
            "text/plain": [
              "dict"
            ]
          },
          "metadata": {},
          "execution_count": 25
        }
      ]
    },
    {
      "cell_type": "code",
      "source": [
        "y"
      ],
      "metadata": {
        "colab": {
          "base_uri": "https://localhost:8080/"
        },
        "id": "ljgcwLAoQO_x",
        "outputId": "77cc926c-161e-4867-a523-15ea7e7f2714"
      },
      "execution_count": 26,
      "outputs": [
        {
          "output_type": "execute_result",
          "data": {
            "text/plain": [
              "{'Name': 'Shakira', 'age': 28}"
            ]
          },
          "metadata": {},
          "execution_count": 26
        }
      ]
    },
    {
      "cell_type": "code",
      "source": [
        "z = (1,3,6,7)"
      ],
      "metadata": {
        "id": "zoo_vTujQcp2"
      },
      "execution_count": 27,
      "outputs": []
    },
    {
      "cell_type": "code",
      "source": [
        "type(z)"
      ],
      "metadata": {
        "colab": {
          "base_uri": "https://localhost:8080/"
        },
        "id": "VthdatXYQjrV",
        "outputId": "81ef7a3e-5809-426e-8b16-109a3a723f46"
      },
      "execution_count": 28,
      "outputs": [
        {
          "output_type": "execute_result",
          "data": {
            "text/plain": [
              "tuple"
            ]
          },
          "metadata": {},
          "execution_count": 28
        }
      ]
    },
    {
      "cell_type": "code",
      "source": [
        "import random\n"
      ],
      "metadata": {
        "id": "z8ZjOZubbXEy"
      },
      "execution_count": 29,
      "outputs": []
    },
    {
      "cell_type": "code",
      "source": [
        "(random.randrange(1,6))"
      ],
      "metadata": {
        "colab": {
          "base_uri": "https://localhost:8080/"
        },
        "id": "pJHwrrgWbdH8",
        "outputId": "c46b8f16-bf36-4f5d-cb57-2b24f2b57b4d"
      },
      "execution_count": 31,
      "outputs": [
        {
          "output_type": "execute_result",
          "data": {
            "text/plain": [
              "3"
            ]
          },
          "metadata": {},
          "execution_count": 31
        }
      ]
    },
    {
      "cell_type": "code",
      "source": [
        "y = \"It is time to go to bed Shakira\"\n"
      ],
      "metadata": {
        "id": "v-9Rya28k-Eq"
      },
      "execution_count": 32,
      "outputs": []
    },
    {
      "cell_type": "code",
      "source": [
        "(y.upper())"
      ],
      "metadata": {
        "colab": {
          "base_uri": "https://localhost:8080/",
          "height": 35
        },
        "id": "elzyLbPSlDzK",
        "outputId": "7501f97b-fbac-4ea3-c683-c6da59355356"
      },
      "execution_count": 34,
      "outputs": [
        {
          "output_type": "execute_result",
          "data": {
            "application/vnd.google.colaboratory.intrinsic+json": {
              "type": "string"
            },
            "text/plain": [
              "'IT IS TIME TO GO TO BED SHAKIRA'"
            ]
          },
          "metadata": {},
          "execution_count": 34
        }
      ]
    },
    {
      "cell_type": "code",
      "source": [
        "(\"school\" not in y)"
      ],
      "metadata": {
        "colab": {
          "base_uri": "https://localhost:8080/"
        },
        "id": "83YVW9mBlNtU",
        "outputId": "3eeb3703-c670-49d9-ee08-4413567598f1"
      },
      "execution_count": 35,
      "outputs": [
        {
          "output_type": "execute_result",
          "data": {
            "text/plain": [
              "True"
            ]
          },
          "metadata": {},
          "execution_count": 35
        }
      ]
    },
    {
      "cell_type": "code",
      "source": [
        "(\"bed\" in y)"
      ],
      "metadata": {
        "colab": {
          "base_uri": "https://localhost:8080/"
        },
        "id": "McB8tJ--lVfN",
        "outputId": "ff52fc47-6da3-496c-f2c4-890f34f9efd3"
      },
      "execution_count": 36,
      "outputs": [
        {
          "output_type": "execute_result",
          "data": {
            "text/plain": [
              "True"
            ]
          },
          "metadata": {},
          "execution_count": 36
        }
      ]
    },
    {
      "cell_type": "code",
      "source": [
        "(y.lower())"
      ],
      "metadata": {
        "colab": {
          "base_uri": "https://localhost:8080/",
          "height": 35
        },
        "id": "2aB_TR0OlfKZ",
        "outputId": "9836e82a-647f-4ea3-fba3-518d5637c34c"
      },
      "execution_count": 37,
      "outputs": [
        {
          "output_type": "execute_result",
          "data": {
            "application/vnd.google.colaboratory.intrinsic+json": {
              "type": "string"
            },
            "text/plain": [
              "'it is time to go to bed shakira'"
            ]
          },
          "metadata": {},
          "execution_count": 37
        }
      ]
    },
    {
      "cell_type": "code",
      "source": [
        "(y.strip())"
      ],
      "metadata": {
        "colab": {
          "base_uri": "https://localhost:8080/",
          "height": 35
        },
        "id": "2yp6J5kzlwva",
        "outputId": "5a86693e-ccd9-4307-96e6-c90d1708506a"
      },
      "execution_count": 38,
      "outputs": [
        {
          "output_type": "execute_result",
          "data": {
            "application/vnd.google.colaboratory.intrinsic+json": {
              "type": "string"
            },
            "text/plain": [
              "'It is time to go to bed Shakira'"
            ]
          },
          "metadata": {},
          "execution_count": 38
        }
      ]
    },
    {
      "cell_type": "code",
      "source": [
        "x = \"i        went to work and worked so hard\""
      ],
      "metadata": {
        "id": "F2PTSZrQl20e"
      },
      "execution_count": 39,
      "outputs": []
    },
    {
      "cell_type": "code",
      "source": [
        "(x.strip())"
      ],
      "metadata": {
        "colab": {
          "base_uri": "https://localhost:8080/",
          "height": 35
        },
        "id": "12bqvzNQl8KF",
        "outputId": "c0ad38f4-f12f-4a26-e0ba-0545bbeceb2f"
      },
      "execution_count": 42,
      "outputs": [
        {
          "output_type": "execute_result",
          "data": {
            "application/vnd.google.colaboratory.intrinsic+json": {
              "type": "string"
            },
            "text/plain": [
              "'i went to work and worked so hard'"
            ]
          },
          "metadata": {},
          "execution_count": 42
        }
      ]
    },
    {
      "cell_type": "code",
      "source": [
        "(x.replace(\"went\" , \"going\"))"
      ],
      "metadata": {
        "colab": {
          "base_uri": "https://localhost:8080/",
          "height": 35
        },
        "id": "S1GPUgc0mX8c",
        "outputId": "91ee0c06-3dc9-4a29-de4b-e5821d54f5d6"
      },
      "execution_count": 43,
      "outputs": [
        {
          "output_type": "execute_result",
          "data": {
            "application/vnd.google.colaboratory.intrinsic+json": {
              "type": "string"
            },
            "text/plain": [
              "'i going to work and worked so hard'"
            ]
          },
          "metadata": {},
          "execution_count": 43
        }
      ]
    },
    {
      "cell_type": "code",
      "source": [
        "x = \"Shaky\"\n",
        "y = \"Kasozi\"\n",
        "z = x + y\n",
        "(z)"
      ],
      "metadata": {
        "colab": {
          "base_uri": "https://localhost:8080/",
          "height": 35
        },
        "id": "Tu8jVTTbn8Uy",
        "outputId": "6b0ce09f-18ae-4c34-de76-bf7e9e24a405"
      },
      "execution_count": 44,
      "outputs": [
        {
          "output_type": "execute_result",
          "data": {
            "application/vnd.google.colaboratory.intrinsic+json": {
              "type": "string"
            },
            "text/plain": [
              "'ShakyKasozi'"
            ]
          },
          "metadata": {},
          "execution_count": 44
        }
      ]
    },
    {
      "cell_type": "code",
      "source": [
        "# to add space to the above\n",
        "z = x + \" \" + y\n",
        "(z)"
      ],
      "metadata": {
        "colab": {
          "base_uri": "https://localhost:8080/",
          "height": 35
        },
        "id": "eLG9JxHfoQE_",
        "outputId": "fb2ef3f0-f9f4-4a7c-fce1-17dd2e07630d"
      },
      "execution_count": 45,
      "outputs": [
        {
          "output_type": "execute_result",
          "data": {
            "application/vnd.google.colaboratory.intrinsic+json": {
              "type": "string"
            },
            "text/plain": [
              "'Shaky Kasozi'"
            ]
          },
          "metadata": {},
          "execution_count": 45
        }
      ]
    },
    {
      "cell_type": "code",
      "source": [
        "age = 28\n",
        "txt = \"My name is Shakira, i am {}\"\n",
        "(txt.format(age))"
      ],
      "metadata": {
        "colab": {
          "base_uri": "https://localhost:8080/",
          "height": 35
        },
        "id": "WpDw8tHbo5eR",
        "outputId": "3b4df12b-9b6c-4637-c6ce-2180408577ca"
      },
      "execution_count": 46,
      "outputs": [
        {
          "output_type": "execute_result",
          "data": {
            "application/vnd.google.colaboratory.intrinsic+json": {
              "type": "string"
            },
            "text/plain": [
              "'My name is Shakira, i am 28'"
            ]
          },
          "metadata": {},
          "execution_count": 46
        }
      ]
    },
    {
      "cell_type": "code",
      "source": [
        "txt = \"My name is Shakira, i am {} years old\"\n",
        "(txt.format(age))"
      ],
      "metadata": {
        "colab": {
          "base_uri": "https://localhost:8080/",
          "height": 35
        },
        "id": "ZbQMxdavpH2H",
        "outputId": "670e5211-2728-452b-d36d-7bbdaad0284f"
      },
      "execution_count": 47,
      "outputs": [
        {
          "output_type": "execute_result",
          "data": {
            "application/vnd.google.colaboratory.intrinsic+json": {
              "type": "string"
            },
            "text/plain": [
              "'My name is Shakira, i am 28 years old'"
            ]
          },
          "metadata": {},
          "execution_count": 47
        }
      ]
    },
    {
      "cell_type": "code",
      "source": [
        "price = \"200shs\"\n",
        "weight = \"4kg\"\n",
        "item = \"A mango that weighs {} costs {}\"\n",
        "(item.format(weight , price))"
      ],
      "metadata": {
        "colab": {
          "base_uri": "https://localhost:8080/",
          "height": 35
        },
        "id": "7pxZmHbIqyTZ",
        "outputId": "aedaaf1d-1fd1-4dbd-88c8-29129d15e091"
      },
      "execution_count": 49,
      "outputs": [
        {
          "output_type": "execute_result",
          "data": {
            "application/vnd.google.colaboratory.intrinsic+json": {
              "type": "string"
            },
            "text/plain": [
              "'A mango that weighs 4kg costs 200shs'"
            ]
          },
          "metadata": {},
          "execution_count": 49
        }
      ]
    },
    {
      "cell_type": "code",
      "source": [
        "# One can use indexes to specify the positions of there variable values\n",
        "price = \"200shs\"\n",
        "weight = \"4kg\"\n",
        "item = \"A mango that weighs {1} costs {0}\"\n",
        "(item.format(weight , price))"
      ],
      "metadata": {
        "colab": {
          "base_uri": "https://localhost:8080/",
          "height": 35
        },
        "id": "cyBMNaygrZ3U",
        "outputId": "200a7a0a-9fc0-483a-a982-2f65c9f92feb"
      },
      "execution_count": 50,
      "outputs": [
        {
          "output_type": "execute_result",
          "data": {
            "application/vnd.google.colaboratory.intrinsic+json": {
              "type": "string"
            },
            "text/plain": [
              "'A mango that weighs 200shs costs 4kg'"
            ]
          },
          "metadata": {},
          "execution_count": 50
        }
      ]
    },
    {
      "cell_type": "code",
      "source": [
        " # insert forward to put any escape character\n",
        " txt = \"I am a \\\"young\\\" girl\"\n",
        " (txt)"
      ],
      "metadata": {
        "colab": {
          "base_uri": "https://localhost:8080/",
          "height": 35
        },
        "id": "y2J2bZapr644",
        "outputId": "ddacc1c3-cfad-4f83-a210-0c16095de23b"
      },
      "execution_count": 55,
      "outputs": [
        {
          "output_type": "execute_result",
          "data": {
            "application/vnd.google.colaboratory.intrinsic+json": {
              "type": "string"
            },
            "text/plain": [
              "'I am a \"young\" girl'"
            ]
          },
          "metadata": {},
          "execution_count": 55
        }
      ]
    },
    {
      "cell_type": "code",
      "source": [
        "y = \"Love\"\n",
        "name = \"Kasozi\"\n",
        "txt = \"i {0} you my dear {1}\"\n",
        "(txt.format(y , name))\n"
      ],
      "metadata": {
        "colab": {
          "base_uri": "https://localhost:8080/",
          "height": 35
        },
        "id": "aI3Yw3XQFtQ8",
        "outputId": "49115a53-7643-4255-c0cf-19d2d702892d"
      },
      "execution_count": 7,
      "outputs": [
        {
          "output_type": "execute_result",
          "data": {
            "application/vnd.google.colaboratory.intrinsic+json": {
              "type": "string"
            },
            "text/plain": [
              "'i Love you my dear Kasozi'"
            ]
          },
          "metadata": {},
          "execution_count": 7
        }
      ]
    },
    {
      "cell_type": "code",
      "source": [
        "y = \"My Love\"\n",
        "name = \"Nsubuga\"\n",
        "txt = \"{} you are {}\"\n",
        "(txt.format(name , y))"
      ],
      "metadata": {
        "colab": {
          "base_uri": "https://localhost:8080/",
          "height": 35
        },
        "id": "EVPADdjnG8a_",
        "outputId": "93f042a6-2813-4444-a5d6-aeb76ecfab22"
      },
      "execution_count": 10,
      "outputs": [
        {
          "output_type": "execute_result",
          "data": {
            "application/vnd.google.colaboratory.intrinsic+json": {
              "type": "string"
            },
            "text/plain": [
              "'Nsubuga you are My Love'"
            ]
          },
          "metadata": {},
          "execution_count": 10
        }
      ]
    },
    {
      "cell_type": "code",
      "source": [
        "y = \"We are going to buy matooke \\\\@\\\\ 200shs\"\n",
        "(y)"
      ],
      "metadata": {
        "colab": {
          "base_uri": "https://localhost:8080/",
          "height": 35
        },
        "id": "zOs61SD0Iq3t",
        "outputId": "0891bdd7-9ad6-4d3e-aca9-75eebd551fc1"
      },
      "execution_count": 11,
      "outputs": [
        {
          "output_type": "execute_result",
          "data": {
            "application/vnd.google.colaboratory.intrinsic+json": {
              "type": "string"
            },
            "text/plain": [
              "'We are going to buy matooke \\\\@\\\\ 200shs'"
            ]
          },
          "metadata": {},
          "execution_count": 11
        }
      ]
    },
    {
      "cell_type": "code",
      "source": [
        "y = \"love\"\n",
        "(y.upper())"
      ],
      "metadata": {
        "colab": {
          "base_uri": "https://localhost:8080/",
          "height": 35
        },
        "id": "hRhDb9YQI6FZ",
        "outputId": "08e2917f-66a3-4963-c65d-f7f9338ae3aa"
      },
      "execution_count": 12,
      "outputs": [
        {
          "output_type": "execute_result",
          "data": {
            "application/vnd.google.colaboratory.intrinsic+json": {
              "type": "string"
            },
            "text/plain": [
              "'LOVE'"
            ]
          },
          "metadata": {},
          "execution_count": 12
        }
      ]
    },
    {
      "cell_type": "code",
      "source": [
        "y = \"KASOZI MY LOVE\"\n",
        "(y.lower())\n",
        "(y.casefold())"
      ],
      "metadata": {
        "colab": {
          "base_uri": "https://localhost:8080/",
          "height": 35
        },
        "id": "IEupfofoJPNS",
        "outputId": "d1a73306-aeba-41e1-cb53-bf11c0499f78"
      },
      "execution_count": 15,
      "outputs": [
        {
          "output_type": "execute_result",
          "data": {
            "application/vnd.google.colaboratory.intrinsic+json": {
              "type": "string"
            },
            "text/plain": [
              "'kasozi my love'"
            ]
          },
          "metadata": {},
          "execution_count": 15
        }
      ]
    },
    {
      "cell_type": "code",
      "source": [
        "y = \"KASOZI MY LOVE\"\n",
        "(y.casefold())"
      ],
      "metadata": {
        "colab": {
          "base_uri": "https://localhost:8080/",
          "height": 35
        },
        "id": "DQSOCpcdJ0HG",
        "outputId": "b07c679d-c7b8-4dea-dcd6-962fcf6bb8cb"
      },
      "execution_count": 16,
      "outputs": [
        {
          "output_type": "execute_result",
          "data": {
            "application/vnd.google.colaboratory.intrinsic+json": {
              "type": "string"
            },
            "text/plain": [
              "'kasozi my love'"
            ]
          },
          "metadata": {},
          "execution_count": 16
        }
      ]
    },
    {
      "cell_type": "code",
      "source": [
        "x = \"my mum is a beautiful woman\"\n",
        "(x.capitalize())"
      ],
      "metadata": {
        "colab": {
          "base_uri": "https://localhost:8080/",
          "height": 35
        },
        "id": "ZiGRs1CKJe_V",
        "outputId": "807ff25e-6cea-4880-b0fd-bae4dd71a429"
      },
      "execution_count": 14,
      "outputs": [
        {
          "output_type": "execute_result",
          "data": {
            "application/vnd.google.colaboratory.intrinsic+json": {
              "type": "string"
            },
            "text/plain": [
              "'My mum is a beautiful woman'"
            ]
          },
          "metadata": {},
          "execution_count": 14
        }
      ]
    },
    {
      "cell_type": "code",
      "source": [
        "w = \"My God is so great\"\n",
        "(len(w))"
      ],
      "metadata": {
        "id": "bq-uSualKXmx",
        "outputId": "8b43afd0-afc3-4bf7-8de3-b0ea279fb8f4",
        "colab": {
          "base_uri": "https://localhost:8080/"
        }
      },
      "execution_count": 18,
      "outputs": [
        {
          "output_type": "execute_result",
          "data": {
            "text/plain": [
              "18"
            ]
          },
          "metadata": {},
          "execution_count": 18
        }
      ]
    },
    {
      "cell_type": "code",
      "source": [
        "y = \"My God is so good!\"\n",
        "(y.strip())"
      ],
      "metadata": {
        "id": "0k2fcGmzMBr0",
        "outputId": "fdebea66-b6bb-4785-af61-72aded2d3621",
        "colab": {
          "base_uri": "https://localhost:8080/",
          "height": 35
        }
      },
      "execution_count": 19,
      "outputs": [
        {
          "output_type": "execute_result",
          "data": {
            "application/vnd.google.colaboratory.intrinsic+json": {
              "type": "string"
            },
            "text/plain": [
              "'My God is so good!'"
            ]
          },
          "metadata": {},
          "execution_count": 19
        }
      ]
    },
    {
      "cell_type": "code",
      "source": [
        "# Remove Whitespace\n",
        "# Whitespace is the space before and/or after the actual text, and very often you want to remove this space.\n",
        "y = \"   My Jesus is    Lord     indeed         \"\n",
        "(y.strip())"
      ],
      "metadata": {
        "id": "HA3Ra0JNMKcr",
        "outputId": "672bbf1a-dc60-4616-c2dc-5042fcd69927",
        "colab": {
          "base_uri": "https://localhost:8080/",
          "height": 35
        }
      },
      "execution_count": 20,
      "outputs": [
        {
          "output_type": "execute_result",
          "data": {
            "application/vnd.google.colaboratory.intrinsic+json": {
              "type": "string"
            },
            "text/plain": [
              "'My Jesus is    Lord     indeed'"
            ]
          },
          "metadata": {},
          "execution_count": 20
        }
      ]
    },
    {
      "cell_type": "code",
      "source": [
        "# Replace String\n",
        "#The replace() method replaces a string with another string: the code below will replace all the \"hs\" in our string\n",
        "y = \"This day is going to be hood day\"\n",
        "(y.replace(\"h\" , \"g\"))"
      ],
      "metadata": {
        "id": "FC2O19RPM9Bq",
        "outputId": "4e054235-328d-4d8d-981c-bb36638667c9",
        "colab": {
          "base_uri": "https://localhost:8080/",
          "height": 35
        }
      },
      "execution_count": 21,
      "outputs": [
        {
          "output_type": "execute_result",
          "data": {
            "application/vnd.google.colaboratory.intrinsic+json": {
              "type": "string"
            },
            "text/plain": [
              "'Tgis day is going to be good day'"
            ]
          },
          "metadata": {},
          "execution_count": 21
        }
      ]
    },
    {
      "cell_type": "code",
      "source": [
        "# String Concatenation\n",
        "#To concatenate, or combine, two strings you can use the + operator.\n",
        "y = \"I love\"\n",
        "x = \"my GOD\"\n",
        "w = y + x\n",
        "(w)\n"
      ],
      "metadata": {
        "id": "JKVB-BilN6kJ",
        "outputId": "6d0759d2-a56e-4451-a543-d1286c2d6e33",
        "colab": {
          "base_uri": "https://localhost:8080/",
          "height": 35
        }
      },
      "execution_count": 25,
      "outputs": [
        {
          "output_type": "execute_result",
          "data": {
            "application/vnd.google.colaboratory.intrinsic+json": {
              "type": "string"
            },
            "text/plain": [
              "'I lovemy GOD'"
            ]
          },
          "metadata": {},
          "execution_count": 25
        }
      ]
    },
    {
      "cell_type": "code",
      "source": [
        " y = \"I love\"\n",
        " x = \"my GOD\"\n",
        " r = y + \" \" + x\n",
        " (r)"
      ],
      "metadata": {
        "id": "YctECCfLOpMC",
        "outputId": "0c39dc36-5f53-43e0-a5b5-8057a4d7dc01",
        "colab": {
          "base_uri": "https://localhost:8080/",
          "height": 35
        }
      },
      "execution_count": 26,
      "outputs": [
        {
          "output_type": "execute_result",
          "data": {
            "application/vnd.google.colaboratory.intrinsic+json": {
              "type": "string"
            },
            "text/plain": [
              "'I love my GOD'"
            ]
          },
          "metadata": {},
          "execution_count": 26
        }
      ]
    },
    {
      "cell_type": "code",
      "source": [
        "# Boolean Values\n",
        "# In programming you often need to know if an expression is True or False.\n",
        "\n",
        "#You can evaluate any expression in Python, and get one of two answers, True or False.\n",
        "\n",
        "# When you compare two values, the expression is evaluated and Python returns the Boolean answer\n",
        "\n",
        "(9 == 0)"
      ],
      "metadata": {
        "id": "4eYw6U0mPYW-",
        "outputId": "888b0e56-7676-4a26-fd73-8a3fdfadf93e",
        "colab": {
          "base_uri": "https://localhost:8080/"
        }
      },
      "execution_count": 28,
      "outputs": [
        {
          "output_type": "execute_result",
          "data": {
            "text/plain": [
              "False"
            ]
          },
          "metadata": {},
          "execution_count": 28
        }
      ]
    },
    {
      "cell_type": "code",
      "source": [
        "(2 > 1)"
      ],
      "metadata": {
        "id": "UvK2NKQ4PoUm",
        "outputId": "67bc17f0-36fc-46a0-fd3d-bd1ce9d72d6d",
        "colab": {
          "base_uri": "https://localhost:8080/"
        }
      },
      "execution_count": 29,
      "outputs": [
        {
          "output_type": "execute_result",
          "data": {
            "text/plain": [
              "True"
            ]
          },
          "metadata": {},
          "execution_count": 29
        }
      ]
    },
    {
      "cell_type": "code",
      "source": [
        "(3 < 2)"
      ],
      "metadata": {
        "id": "zfKzvrDwPsJ7",
        "outputId": "9693c34f-fd02-4f78-f1c9-ddc84cbd3519",
        "colab": {
          "base_uri": "https://localhost:8080/"
        }
      },
      "execution_count": 30,
      "outputs": [
        {
          "output_type": "execute_result",
          "data": {
            "text/plain": [
              "False"
            ]
          },
          "metadata": {},
          "execution_count": 30
        }
      ]
    },
    {
      "cell_type": "code",
      "source": [
        "(9 == 9)"
      ],
      "metadata": {
        "id": "jRT15SL-PwhK",
        "outputId": "e068bf50-1ef3-43f7-d4ec-b6be3d89fbbb",
        "colab": {
          "base_uri": "https://localhost:8080/"
        }
      },
      "execution_count": 31,
      "outputs": [
        {
          "output_type": "execute_result",
          "data": {
            "text/plain": [
              "True"
            ]
          },
          "metadata": {},
          "execution_count": 31
        }
      ]
    },
    {
      "cell_type": "code",
      "source": [
        "a = 200\n",
        "b = 33\n",
        "\n",
        "if b > a:\n",
        "  (\"b is greater than a\")\n",
        "else:\n",
        "  (\"b is not greater than a\")\n"
      ],
      "metadata": {
        "id": "FY9YbU6JQAHq"
      },
      "execution_count": 32,
      "outputs": []
    },
    {
      "cell_type": "code",
      "source": [
        "x = 500\n",
        "y = 5\n",
        "if y > x:\n",
        "  (\"y is greater than x\")\n",
        "else:\n",
        "  (\"x is greater than y\")"
      ],
      "metadata": {
        "id": "x5DVRwehRMKa"
      },
      "execution_count": 34,
      "outputs": []
    },
    {
      "cell_type": "code",
      "source": [
        "(bool(\"hello\"))"
      ],
      "metadata": {
        "id": "64iC8PoURzoU",
        "outputId": "98191ab7-f426-4992-90d9-2750fe0ae412",
        "colab": {
          "base_uri": "https://localhost:8080/"
        }
      },
      "execution_count": 36,
      "outputs": [
        {
          "output_type": "execute_result",
          "data": {
            "text/plain": [
              "True"
            ]
          },
          "metadata": {},
          "execution_count": 36
        }
      ]
    },
    {
      "cell_type": "code",
      "source": [
        "(bool(\"Hello\"))"
      ],
      "metadata": {
        "id": "FvjYED1JR9Jv",
        "outputId": "64ffdd01-5160-420a-d1c8-76ff6445ac9b",
        "colab": {
          "base_uri": "https://localhost:8080/"
        }
      },
      "execution_count": 38,
      "outputs": [
        {
          "output_type": "execute_result",
          "data": {
            "text/plain": [
              "True"
            ]
          },
          "metadata": {},
          "execution_count": 38
        }
      ]
    },
    {
      "cell_type": "code",
      "source": [
        "y = 12\n",
        "(bool(y))"
      ],
      "metadata": {
        "id": "mxybRPAvSJFO",
        "outputId": "ba109d85-5d25-4450-fb16-2a8807ba3482",
        "colab": {
          "base_uri": "https://localhost:8080/"
        }
      },
      "execution_count": 39,
      "outputs": [
        {
          "output_type": "execute_result",
          "data": {
            "text/plain": [
              "True"
            ]
          },
          "metadata": {},
          "execution_count": 39
        }
      ]
    },
    {
      "cell_type": "code",
      "source": [
        "# Most Values are True. Almost any value is evaluated to True if it has some sort of content.\n",
        "# Any string is True, except empty strings.\n",
        "# Any number is True, except 0.\n",
        "# Any list, tuple, set, and dictionary are True, except empty ones\n",
        "x = 0\n",
        "(bool(x))"
      ],
      "metadata": {
        "id": "BhyCCfLSSU0M",
        "outputId": "7f23e029-5448-431a-e9f9-23b1db6e07d9",
        "colab": {
          "base_uri": "https://localhost:8080/"
        }
      },
      "execution_count": 40,
      "outputs": [
        {
          "output_type": "execute_result",
          "data": {
            "text/plain": [
              "False"
            ]
          },
          "metadata": {},
          "execution_count": 40
        }
      ]
    },
    {
      "cell_type": "code",
      "source": [
        "y = {\"mango\", \"Jackfruit\", \"Apple\"}\n",
        "(bool(y))"
      ],
      "metadata": {
        "id": "5gtWmk-dSsB0",
        "outputId": "1f62a215-212e-4cb5-a55b-9a6520c9117d",
        "colab": {
          "base_uri": "https://localhost:8080/"
        }
      },
      "execution_count": 42,
      "outputs": [
        {
          "output_type": "execute_result",
          "data": {
            "text/plain": [
              "True"
            ]
          },
          "metadata": {},
          "execution_count": 42
        }
      ]
    },
    {
      "cell_type": "code",
      "source": [
        "y = {\"mango\", \"Jackfruit\", \"Apple\"}\n",
        "type(y)"
      ],
      "metadata": {
        "id": "fgPR3m-bS7Jf",
        "outputId": "18c431c9-b0ad-4d95-a666-cc59c7b75836",
        "colab": {
          "base_uri": "https://localhost:8080/"
        }
      },
      "execution_count": 43,
      "outputs": [
        {
          "output_type": "execute_result",
          "data": {
            "text/plain": [
              "set"
            ]
          },
          "metadata": {},
          "execution_count": 43
        }
      ]
    },
    {
      "cell_type": "code",
      "source": [
        "x = {}\n",
        "(bool(x))"
      ],
      "metadata": {
        "id": "oNN-nGzgTELJ",
        "outputId": "d959b3fb-4f57-43de-d83b-28dd2a334002",
        "colab": {
          "base_uri": "https://localhost:8080/"
        }
      },
      "execution_count": 44,
      "outputs": [
        {
          "output_type": "execute_result",
          "data": {
            "text/plain": [
              "False"
            ]
          },
          "metadata": {},
          "execution_count": 44
        }
      ]
    },
    {
      "cell_type": "code",
      "source": [
        "y = \"My Jesus is Lord\"\n",
        "(len(y))"
      ],
      "metadata": {
        "id": "R2Lym5VWTZWA",
        "outputId": "cc6bb84d-7cce-4eff-bb43-86c3d1614a1b",
        "colab": {
          "base_uri": "https://localhost:8080/"
        }
      },
      "execution_count": 45,
      "outputs": [
        {
          "output_type": "execute_result",
          "data": {
            "text/plain": [
              "16"
            ]
          },
          "metadata": {},
          "execution_count": 45
        }
      ]
    },
    {
      "cell_type": "code",
      "source": [
        "# Python also has many built-in functions that return a boolean value, like the isinstance() function, which can be used to determine if an object is of a certain data type\n",
        "x = 34\n",
        "(isinstance(x, int))"
      ],
      "metadata": {
        "id": "YbKqTOj-UwNU",
        "outputId": "d610a65c-9320-4efe-93b0-fa028c0dfc9e",
        "colab": {
          "base_uri": "https://localhost:8080/"
        }
      },
      "execution_count": 46,
      "outputs": [
        {
          "output_type": "execute_result",
          "data": {
            "text/plain": [
              "True"
            ]
          },
          "metadata": {},
          "execution_count": 46
        }
      ]
    },
    {
      "cell_type": "code",
      "source": [
        "y = \"Love\"\n",
        "(isinstance(y, str))"
      ],
      "metadata": {
        "id": "vdxwp289U4pB",
        "outputId": "f69f6840-6d18-436b-c5fa-62a38a4009bf",
        "colab": {
          "base_uri": "https://localhost:8080/"
        }
      },
      "execution_count": 47,
      "outputs": [
        {
          "output_type": "execute_result",
          "data": {
            "text/plain": [
              "True"
            ]
          },
          "metadata": {},
          "execution_count": 47
        }
      ]
    },
    {
      "cell_type": "code",
      "source": [
        "x = 200\n",
        "(isinstance(x, str))"
      ],
      "metadata": {
        "id": "vUnp1dHmVA9b",
        "outputId": "fbba1dfe-10a2-4edc-fca8-4902cba8ba78",
        "colab": {
          "base_uri": "https://localhost:8080/"
        }
      },
      "execution_count": 48,
      "outputs": [
        {
          "output_type": "execute_result",
          "data": {
            "text/plain": [
              "False"
            ]
          },
          "metadata": {},
          "execution_count": 48
        }
      ]
    },
    {
      "cell_type": "code",
      "source": [
        "#the floor division // rounds the result down to the nearest whole number\n",
        "x = 40\n",
        "y = 7\n",
        "(x // y)"
      ],
      "metadata": {
        "id": "CSoC3ZO4spr7",
        "outputId": "6e1b64ef-f0f3-4dfd-b23c-8cdc13c98150",
        "colab": {
          "base_uri": "https://localhost:8080/"
        }
      },
      "execution_count": 49,
      "outputs": [
        {
          "output_type": "execute_result",
          "data": {
            "text/plain": [
              "5"
            ]
          },
          "metadata": {},
          "execution_count": 49
        }
      ]
    },
    {
      "cell_type": "code",
      "source": [
        "x = 7\n",
        "x += 5\n",
        "(x)\n",
        "# the above (x += 5) is the same as x + 5\n"
      ],
      "metadata": {
        "id": "VrHJ1LgttRiG",
        "outputId": "f34cc2ad-84e8-4f7f-f962-6a1b0f8883cb",
        "colab": {
          "base_uri": "https://localhost:8080/"
        }
      },
      "execution_count": 51,
      "outputs": [
        {
          "output_type": "execute_result",
          "data": {
            "text/plain": [
              "12"
            ]
          },
          "metadata": {},
          "execution_count": 51
        }
      ]
    },
    {
      "cell_type": "code",
      "source": [
        "# != is a sign meaning not equal\n",
        "# == means equal\n",
        "\n",
        "y = 3\n",
        "x = 4\n",
        "\n",
        "y != x\n",
        "(bool(y))"
      ],
      "metadata": {
        "id": "Ym2_cu7Dt6qN",
        "outputId": "b095d918-9d42-4cbe-f744-f30a01c1e6a9",
        "colab": {
          "base_uri": "https://localhost:8080/"
        }
      },
      "execution_count": 52,
      "outputs": [
        {
          "output_type": "execute_result",
          "data": {
            "text/plain": [
              "True"
            ]
          },
          "metadata": {},
          "execution_count": 52
        }
      ]
    },
    {
      "cell_type": "code",
      "source": [
        "# and \tReturns True if both statements are true e.g\tx < 5 and  x < 10\n",
        "x = 12\n",
        "(x < 10 and x > 11)"
      ],
      "metadata": {
        "id": "1rMt7ucAufXV",
        "outputId": "19cc1695-5cf4-436f-9e7f-ff37c1d3fd4e",
        "colab": {
          "base_uri": "https://localhost:8080/"
        }
      },
      "execution_count": 53,
      "outputs": [
        {
          "output_type": "execute_result",
          "data": {
            "text/plain": [
              "False"
            ]
          },
          "metadata": {},
          "execution_count": 53
        }
      ]
    },
    {
      "cell_type": "code",
      "source": [
        "x = 2\n",
        "(x > 1 and x ==2)"
      ],
      "metadata": {
        "id": "YlxtubCauwGL",
        "outputId": "86d00c3c-593b-4b26-eab4-7f0ac8988777",
        "colab": {
          "base_uri": "https://localhost:8080/"
        }
      },
      "execution_count": 54,
      "outputs": [
        {
          "output_type": "execute_result",
          "data": {
            "text/plain": [
              "True"
            ]
          },
          "metadata": {},
          "execution_count": 54
        }
      ]
    },
    {
      "cell_type": "code",
      "source": [
        "# or\tReturns True if one of the statements is true\te.g  x < 5 or x < 4\n",
        "x = 6\n",
        "( x < 7 or x > 13)"
      ],
      "metadata": {
        "id": "nyxy-mXWu8g_",
        "outputId": "f0d7aed4-7721-4466-d14f-7b895889b153",
        "colab": {
          "base_uri": "https://localhost:8080/"
        }
      },
      "execution_count": 55,
      "outputs": [
        {
          "output_type": "execute_result",
          "data": {
            "text/plain": [
              "True"
            ]
          },
          "metadata": {},
          "execution_count": 55
        }
      ]
    },
    {
      "cell_type": "code",
      "source": [
        "# not\tReverse the result, returns False if the result is true\te.g   not(x < 5 and x < 10)\t\n",
        "x = 5\n",
        "not(x > 6 and x >10)\n"
      ],
      "metadata": {
        "id": "4FKg86fTvX7U",
        "outputId": "583efc86-77ff-4a75-c707-7c353fc43f53",
        "colab": {
          "base_uri": "https://localhost:8080/"
        }
      },
      "execution_count": 56,
      "outputs": [
        {
          "output_type": "execute_result",
          "data": {
            "text/plain": [
              "True"
            ]
          },
          "metadata": {},
          "execution_count": 56
        }
      ]
    },
    {
      "cell_type": "code",
      "source": [
        "# is \tReturns True if both variables are the same object E.g\tx is y\n",
        "x = 5\n",
        "y = 5\n",
        "(x is y)"
      ],
      "metadata": {
        "id": "j4cweHa5vnWX",
        "outputId": "28cb9cbf-04fe-48a3-ce93-399998e87e1f",
        "colab": {
          "base_uri": "https://localhost:8080/"
        }
      },
      "execution_count": 57,
      "outputs": [
        {
          "output_type": "execute_result",
          "data": {
            "text/plain": [
              "True"
            ]
          },
          "metadata": {},
          "execution_count": 57
        }
      ]
    },
    {
      "cell_type": "code",
      "source": [
        "x = 6\n",
        "y = 5\n",
        "(x is y)"
      ],
      "metadata": {
        "id": "KXLho7L0vw7a",
        "outputId": "8a9d9793-3a2e-4880-9216-264ca62a5acd",
        "colab": {
          "base_uri": "https://localhost:8080/"
        }
      },
      "execution_count": 58,
      "outputs": [
        {
          "output_type": "execute_result",
          "data": {
            "text/plain": [
              "False"
            ]
          },
          "metadata": {},
          "execution_count": 58
        }
      ]
    },
    {
      "cell_type": "code",
      "source": [
        "# is not\tReturns True if both variables are not the same object\tE.g x is not y\n",
        "x = 7\n",
        "y = 8\n",
        "(x is not y)"
      ],
      "metadata": {
        "id": "oELqE9-fv4Nw",
        "outputId": "e660ed10-bda4-4e26-976b-709e48774818",
        "colab": {
          "base_uri": "https://localhost:8080/"
        }
      },
      "execution_count": 59,
      "outputs": [
        {
          "output_type": "execute_result",
          "data": {
            "text/plain": [
              "True"
            ]
          },
          "metadata": {},
          "execution_count": 59
        }
      ]
    },
    {
      "cell_type": "code",
      "source": [
        "x = 9\n",
        "y = 9\n",
        "(x is not y)"
      ],
      "metadata": {
        "id": "7hJqXsP2wAMv",
        "outputId": "9a91c991-f1a3-437f-a390-21c442b280ca",
        "colab": {
          "base_uri": "https://localhost:8080/"
        }
      },
      "execution_count": 60,
      "outputs": [
        {
          "output_type": "execute_result",
          "data": {
            "text/plain": [
              "False"
            ]
          },
          "metadata": {},
          "execution_count": 60
        }
      ]
    },
    {
      "cell_type": "code",
      "source": [
        "# in \tReturns True if a sequence with the specified value is present in the object E.g\tx in y\n",
        "# x = [\"apple\", \"banana\"]\n",
        "\n",
        "# print(\"banana\" in x)\n",
        "\n",
        "# returns True because a sequence with the value \"banana\" is in the list\n",
        "y = (\"Jesus\", \"Abraham\", \"Joseph\")\n",
        "(\"Jesus\" in y)"
      ],
      "metadata": {
        "id": "3SqQV3f5zlAF",
        "outputId": "2293e3d3-7faf-4fca-b556-c0fcdd166313",
        "colab": {
          "base_uri": "https://localhost:8080/"
        }
      },
      "execution_count": 66,
      "outputs": [
        {
          "output_type": "execute_result",
          "data": {
            "text/plain": [
              "True"
            ]
          },
          "metadata": {},
          "execution_count": 66
        }
      ]
    },
    {
      "cell_type": "code",
      "source": [
        "# not in\tReturns True if a sequence with the specified value is not present in the object\tx not in y\n",
        "x = [\"Applie\", \"Orange\", \"Mango\"]\n",
        "(\"Apple\" not in x)"
      ],
      "metadata": {
        "id": "RCbQY7nbvAsB",
        "outputId": "22a2c7bf-ae67-4502-b987-160d64ed8999",
        "colab": {
          "base_uri": "https://localhost:8080/"
        }
      },
      "execution_count": 67,
      "outputs": [
        {
          "output_type": "execute_result",
          "data": {
            "text/plain": [
              "True"
            ]
          },
          "metadata": {},
          "execution_count": 67
        }
      ]
    },
    {
      "cell_type": "code",
      "source": [
        "y = (1,2,4,3)\n",
        "(1 not in y)"
      ],
      "metadata": {
        "id": "pyEOf9QS1awS",
        "outputId": "59e0c561-e9ca-4325-b1cc-836fd7aaf59c",
        "colab": {
          "base_uri": "https://localhost:8080/"
        }
      },
      "execution_count": 68,
      "outputs": [
        {
          "output_type": "execute_result",
          "data": {
            "text/plain": [
              "False"
            ]
          },
          "metadata": {},
          "execution_count": 68
        }
      ]
    },
    {
      "cell_type": "code",
      "source": [
        "# length of a list len(). Ths helps determine how many items are in a list\n",
        "x = [\"Shakira\", \"Shadia\", \"Rashid\"]\n",
        "(len(x))"
      ],
      "metadata": {
        "id": "rrdSMlFKLOsO",
        "outputId": "8041a6af-2d2c-49c1-9784-1229a7341714",
        "colab": {
          "base_uri": "https://localhost:8080/"
        }
      },
      "execution_count": 1,
      "outputs": [
        {
          "output_type": "execute_result",
          "data": {
            "text/plain": [
              "3"
            ]
          },
          "metadata": {},
          "execution_count": 1
        }
      ]
    },
    {
      "cell_type": "code",
      "source": [
        "y = [True, False, False, True]\n",
        "(len(y))"
      ],
      "metadata": {
        "id": "pES00c-lLtJd",
        "outputId": "b4ef6127-a517-4b27-b535-6e7df1fa68d4",
        "colab": {
          "base_uri": "https://localhost:8080/"
        }
      },
      "execution_count": 2,
      "outputs": [
        {
          "output_type": "execute_result",
          "data": {
            "text/plain": [
              "4"
            ]
          },
          "metadata": {},
          "execution_count": 2
        }
      ]
    },
    {
      "cell_type": "code",
      "source": [
        "# A list can contain different data types\n",
        "y = [True, \"Shakira\", 4, False]\n",
        "(len(y))"
      ],
      "metadata": {
        "id": "hHXAKaqNL4jb",
        "outputId": "657639fd-70de-40d6-c18c-0442a6183124",
        "colab": {
          "base_uri": "https://localhost:8080/"
        }
      },
      "execution_count": 6,
      "outputs": [
        {
          "output_type": "execute_result",
          "data": {
            "text/plain": [
              "4"
            ]
          },
          "metadata": {},
          "execution_count": 6
        }
      ]
    },
    {
      "cell_type": "code",
      "source": [
        "# The list() Constructor\n",
        "# It is also possible to use the list() constructor when creating a new list.\n",
        "y = list((\"shak\", \"fish\"))\n",
        "(y)\n"
      ],
      "metadata": {
        "id": "YG2P224JX94I",
        "outputId": "31c04693-80d3-429b-cffe-7321bb5c2105",
        "colab": {
          "base_uri": "https://localhost:8080/"
        }
      },
      "execution_count": 8,
      "outputs": [
        {
          "output_type": "execute_result",
          "data": {
            "text/plain": [
              "['shak', 'fish']"
            ]
          },
          "metadata": {},
          "execution_count": 8
        }
      ]
    },
    {
      "cell_type": "code",
      "source": [
        "# Negative indexing\n",
        "# #Negative indexing means starting from the end of the list.\n",
        "\n",
        "#This example returns the items from index -4 (included) to index -1 (excluded)\n",
        "\n",
        "#Remember that the last item has the index -1\n",
        "y = [\"Orange\", \"Mango\", \"Guava\", \"Pawpaw\"]\n",
        "(y[-4:-1])"
      ],
      "metadata": {
        "id": "8m_YPMWvZ-um",
        "outputId": "8cf7a93e-5675-4ab4-d442-682c91aa60e0",
        "colab": {
          "base_uri": "https://localhost:8080/"
        }
      },
      "execution_count": 9,
      "outputs": [
        {
          "output_type": "execute_result",
          "data": {
            "text/plain": [
              "['Orange', 'Mango', 'Guava']"
            ]
          },
          "metadata": {},
          "execution_count": 9
        }
      ]
    },
    {
      "cell_type": "code",
      "source": [
        "# Check if Item Exists\n",
        "# To determine if a specified item is present in a list use the in keyword\n",
        "y = [\"Orange\", \"Mango\", \"Guava\", \"Pawpaw\"]\n",
        "if \"Orange\" in y:\n",
        "  (\"yes, 'orange' is in the fruit list\")"
      ],
      "metadata": {
        "id": "Yd1Zxh7calYk"
      },
      "execution_count": 10,
      "outputs": []
    },
    {
      "cell_type": "code",
      "source": [
        "# Change a Range of Item Values\n",
        "# To change the value of items within a specific range, define a list with the new values, and refer to the range of index numbers where you want to insert the new values\n",
        "y = [\"Orange\", \"Mango\", \"Guava\", \"Pawpaw\"]\n",
        "y[0:2] = [\"Grapes\", \"Apple\"]\n",
        "(y)\n"
      ],
      "metadata": {
        "id": "f4aHlcizbcZu",
        "outputId": "2c7ed51d-9da2-4dc1-859c-e2f68c0e31a8",
        "colab": {
          "base_uri": "https://localhost:8080/"
        }
      },
      "execution_count": 12,
      "outputs": [
        {
          "output_type": "execute_result",
          "data": {
            "text/plain": [
              "['Grapes', 'Apple', 'Guava', 'Pawpaw']"
            ]
          },
          "metadata": {},
          "execution_count": 12
        }
      ]
    },
    {
      "cell_type": "code",
      "source": [
        "y = [\"Orange\", \"Mango\", \"Guava\", \"Pawpaw\"]\n",
        "y[0:1] = [\"Grapes\", \"Apple\"]\n",
        "(y)"
      ],
      "metadata": {
        "id": "VLMOrBAFb7EC",
        "outputId": "d62c02aa-673c-4b6e-c10c-99ae2d11a3ba",
        "colab": {
          "base_uri": "https://localhost:8080/"
        }
      },
      "execution_count": 13,
      "outputs": [
        {
          "output_type": "execute_result",
          "data": {
            "text/plain": [
              "['Grapes', 'Apple', 'Mango', 'Guava', 'Pawpaw']"
            ]
          },
          "metadata": {},
          "execution_count": 13
        }
      ]
    },
    {
      "cell_type": "code",
      "source": [
        "# If you insert less items than you replace, the new items will be inserted where you specified, and the remaining items will move accordingly\n",
        "y = [\"Orange\", \"Mango\", \"Guava\", \"Pawpaw\"]\n",
        "y[0:5] = [\"Grapes\", \"Apple\"]\n",
        "(y)"
      ],
      "metadata": {
        "id": "nALycBIacN6z",
        "outputId": "6805b592-8cc7-4513-e63e-f1f9650d0019",
        "colab": {
          "base_uri": "https://localhost:8080/"
        }
      },
      "execution_count": 14,
      "outputs": [
        {
          "output_type": "execute_result",
          "data": {
            "text/plain": [
              "['Grapes', 'Apple']"
            ]
          },
          "metadata": {},
          "execution_count": 14
        }
      ]
    },
    {
      "cell_type": "code",
      "source": [
        "# Insert Items\n",
        "# To insert a new list item, without replacing any of the existing values, we can use the insert() method.\n",
        "\n",
        "# The insert() method inserts an item at the specified index\n",
        "y = [\"Orange\", \"Mango\", \"Guava\", \"Pawpaw\"]\n",
        "y.insert(0, \"watermelon\")\n",
        "(y)"
      ],
      "metadata": {
        "id": "zMT141rscuSo",
        "outputId": "7a8e94d5-8c93-4254-87fc-2eb9f3f2e95a",
        "colab": {
          "base_uri": "https://localhost:8080/"
        }
      },
      "execution_count": 1,
      "outputs": [
        {
          "output_type": "execute_result",
          "data": {
            "text/plain": [
              "['watermelon', 'Orange', 'Mango', 'Guava', 'Pawpaw']"
            ]
          },
          "metadata": {},
          "execution_count": 1
        }
      ]
    },
    {
      "cell_type": "code",
      "source": [
        "# Append Items\n",
        "# To add an item to the end of the list, use the append() method\n",
        "y = [\"Orange\", \"Mango\", \"Guava\", \"Pawpaw\"]\n",
        "y.append(\"watermelon\")\n",
        "(y)"
      ],
      "metadata": {
        "id": "4S_f7SsPUHQB",
        "outputId": "d2bd4bf3-fd3e-45b2-b5f4-169532b4c294",
        "colab": {
          "base_uri": "https://localhost:8080/"
        }
      },
      "execution_count": 3,
      "outputs": [
        {
          "output_type": "execute_result",
          "data": {
            "text/plain": [
              "['Orange', 'Mango', 'Guava', 'Pawpaw', 'watermelon']"
            ]
          },
          "metadata": {},
          "execution_count": 3
        }
      ]
    },
    {
      "cell_type": "code",
      "source": [
        "# Extend List\n",
        "# To append elements from another list to the current list, use the extend() method\n",
        "# The elements will be added to the end of the list.\n",
        "y = [1,2,3,4,5]\n",
        "x = [6,7,8,9]\n",
        "y.extend(x)\n",
        "(y)"
      ],
      "metadata": {
        "id": "hQ9_Qb4MWAwV",
        "outputId": "c1fcdc29-684f-4505-e587-16a8b357ab73",
        "colab": {
          "base_uri": "https://localhost:8080/"
        }
      },
      "execution_count": 4,
      "outputs": [
        {
          "output_type": "execute_result",
          "data": {
            "text/plain": [
              "[1, 2, 3, 4, 5, 6, 7, 8, 9]"
            ]
          },
          "metadata": {},
          "execution_count": 4
        }
      ]
    },
    {
      "cell_type": "code",
      "source": [
        "# Add Any Iterable\n",
        "# The extend() method does not have to append lists, you can add any iterable object (tuples, sets, dictionaries etc.)\n",
        "ylist = [1,2,3,4]\n",
        "ytuple = (5,6,7,8,9)\n",
        "ylist.extend(ytuple)\n",
        "(ylist)"
      ],
      "metadata": {
        "id": "MuWLN2IsXk8_",
        "outputId": "6030b1e4-e009-4b72-89b7-f623b720f3b0",
        "colab": {
          "base_uri": "https://localhost:8080/"
        }
      },
      "execution_count": 5,
      "outputs": [
        {
          "output_type": "execute_result",
          "data": {
            "text/plain": [
              "[1, 2, 3, 4, 5, 6, 7, 8, 9]"
            ]
          },
          "metadata": {},
          "execution_count": 5
        }
      ]
    },
    {
      "cell_type": "code",
      "source": [
        "# Remove Specified Item\n",
        "# The remove() method removes the specified item\n",
        "y = [3,4,5,6]\n",
        "y.remove(4)\n",
        "(y)"
      ],
      "metadata": {
        "id": "DFjaq7i2X-3S",
        "outputId": "0b985191-d0c8-4e76-c031-5ee0ce73e213",
        "colab": {
          "base_uri": "https://localhost:8080/"
        }
      },
      "execution_count": 9,
      "outputs": [
        {
          "output_type": "execute_result",
          "data": {
            "text/plain": [
              "[3, 5, 6]"
            ]
          },
          "metadata": {},
          "execution_count": 9
        }
      ]
    },
    {
      "cell_type": "code",
      "source": [
        "# Remove Specified Index\n",
        "# The pop() method removes the specified index.\n",
        "y = [2,3,4,5,6,7]\n",
        "y.pop(3)\n",
        "(y)"
      ],
      "metadata": {
        "id": "WCKqDtttYo0X",
        "outputId": "557376d7-2354-43b8-8f6c-a16719ad93d5",
        "colab": {
          "base_uri": "https://localhost:8080/"
        }
      },
      "execution_count": 12,
      "outputs": [
        {
          "output_type": "execute_result",
          "data": {
            "text/plain": [
              "[2, 3, 4, 6, 7]"
            ]
          },
          "metadata": {},
          "execution_count": 12
        }
      ]
    },
    {
      "cell_type": "code",
      "source": [
        "# If you do not specify the index, the pop() method removes the last item.\n",
        "y = [2,3,4,5,6,7]\n",
        "y.pop()\n",
        "(y)"
      ],
      "metadata": {
        "id": "1D5ZqTpgZFrH",
        "outputId": "d70fdf86-1058-4618-fd4a-e2a299dc735f",
        "colab": {
          "base_uri": "https://localhost:8080/"
        }
      },
      "execution_count": 13,
      "outputs": [
        {
          "output_type": "execute_result",
          "data": {
            "text/plain": [
              "[2, 3, 4, 5, 6]"
            ]
          },
          "metadata": {},
          "execution_count": 13
        }
      ]
    },
    {
      "cell_type": "code",
      "source": [
        "# The del keyword also removes the specified index\n",
        "y = [1,2,4,5,6,7]\n",
        "del y[0]\n",
        "(y)"
      ],
      "metadata": {
        "id": "WF_eFHbrZitQ",
        "outputId": "78a7a134-ea51-4586-970a-6b1273b9dbe8",
        "colab": {
          "base_uri": "https://localhost:8080/"
        }
      },
      "execution_count": 14,
      "outputs": [
        {
          "output_type": "execute_result",
          "data": {
            "text/plain": [
              "[2, 4, 5, 6, 7]"
            ]
          },
          "metadata": {},
          "execution_count": 14
        }
      ]
    },
    {
      "cell_type": "code",
      "source": [
        "# The del keyword can also delete the list completely.\n",
        "#this will cause an error because you have succsesfully deleted \"thislist\".\n",
        "y = [2,3,4,5,6]\n",
        "del y\n",
        "(y)"
      ],
      "metadata": {
        "id": "LIulacEumMAA",
        "outputId": "978b9b28-a6b8-49ae-cecb-132783c50460",
        "colab": {
          "base_uri": "https://localhost:8080/",
          "height": 200
        }
      },
      "execution_count": 16,
      "outputs": [
        {
          "output_type": "error",
          "ename": "NameError",
          "evalue": "ignored",
          "traceback": [
            "\u001b[0;31m---------------------------------------------------------------------------\u001b[0m",
            "\u001b[0;31mNameError\u001b[0m                                 Traceback (most recent call last)",
            "\u001b[0;32m<ipython-input-16-250fa0898a32>\u001b[0m in \u001b[0;36m<module>\u001b[0;34m()\u001b[0m\n\u001b[1;32m      3\u001b[0m \u001b[0my\u001b[0m \u001b[0;34m=\u001b[0m \u001b[0;34m[\u001b[0m\u001b[0;36m2\u001b[0m\u001b[0;34m,\u001b[0m\u001b[0;36m3\u001b[0m\u001b[0;34m,\u001b[0m\u001b[0;36m4\u001b[0m\u001b[0;34m,\u001b[0m\u001b[0;36m5\u001b[0m\u001b[0;34m,\u001b[0m\u001b[0;36m6\u001b[0m\u001b[0;34m]\u001b[0m\u001b[0;34m\u001b[0m\u001b[0;34m\u001b[0m\u001b[0m\n\u001b[1;32m      4\u001b[0m \u001b[0;32mdel\u001b[0m \u001b[0my\u001b[0m\u001b[0;34m\u001b[0m\u001b[0;34m\u001b[0m\u001b[0m\n\u001b[0;32m----> 5\u001b[0;31m \u001b[0;34m(\u001b[0m\u001b[0my\u001b[0m\u001b[0;34m)\u001b[0m\u001b[0;34m\u001b[0m\u001b[0;34m\u001b[0m\u001b[0m\n\u001b[0m",
            "\u001b[0;31mNameError\u001b[0m: name 'y' is not defined"
          ]
        }
      ]
    },
    {
      "cell_type": "code",
      "source": [
        "# Clear the List\n",
        "# The clear() method empties the list.\n",
        "# The list still remains, but it has no content.\n",
        "y = [1,2,3,4,5]\n",
        "y.clear()\n",
        "(y)\n"
      ],
      "metadata": {
        "id": "jpdNrhoEnd9g",
        "outputId": "c01cacb5-edb1-475b-dbb1-fefdd87ab6e0",
        "colab": {
          "base_uri": "https://localhost:8080/"
        }
      },
      "execution_count": 1,
      "outputs": [
        {
          "output_type": "execute_result",
          "data": {
            "text/plain": [
              "[]"
            ]
          },
          "metadata": {},
          "execution_count": 1
        }
      ]
    },
    {
      "cell_type": "code",
      "source": [
        "y = [\"Abigail\", \"Vanessa\", \"Shadia\", \"Kylie\", \"Shakira\"]\n",
        "for x in y:\n",
        "    (x)\n",
        "    (x)"
      ],
      "metadata": {
        "id": "TmKtWfTsgr9g"
      },
      "execution_count": 4,
      "outputs": []
    },
    {
      "cell_type": "code",
      "source": [
        "y = [\"Abigail\", \"Vanessa\", \"Shadia\", \"Kylie\", \"Shakira\"]\n",
        "for x in range(len(y)):\n",
        "   (y[x])"
      ],
      "metadata": {
        "id": "f1ly161Siq1x"
      },
      "execution_count": 5,
      "outputs": []
    },
    {
      "cell_type": "code",
      "source": [
        "y = [\"Abigail\", \"Vanessa\", \"Shadia\", \"Kylie\", \"Shakira\"]\n",
        "x = []\n",
        "for w in y:\n",
        "  if \"n\" in w:\n",
        "    x.append(w)\n",
        "    (x)"
      ],
      "metadata": {
        "id": "RImEjZ_H7GEh"
      },
      "execution_count": 6,
      "outputs": []
    },
    {
      "cell_type": "code",
      "source": [
        "list1 = [\"Mike\", \"\", \"Emma\", \"Kelly\", \"\", \"Brad\"]\n",
        "list2 = [\"My\", \"name\", \"is\", \"Kelly\"]\n",
        "# Number 1 join the list\n",
        "Joint_list = list1 + list2\n",
        "(Joint_list)"
      ],
      "metadata": {
        "id": "HFY5D-FxZJor",
        "outputId": "e107ff33-d531-4b35-c47b-4036d97412fc",
        "colab": {
          "base_uri": "https://localhost:8080/"
        }
      },
      "execution_count": 3,
      "outputs": [
        {
          "output_type": "execute_result",
          "data": {
            "text/plain": [
              "['Mike', '', 'Emma', 'Kelly', '', 'Brad', 'My', 'name', 'is', 'Kelly']"
            ]
          },
          "metadata": {},
          "execution_count": 3
        }
      ]
    },
    {
      "cell_type": "code",
      "source": [
        "# Number 2\n",
        "Joint_list = [\"Mike\", \"\", \"Emma\", \"Kelly\", \"\", \"Brad\",\"My\", \"name\", \"is\", \"Kelly\" ]\n",
        "Joint_list.reverse()\n",
        "(Joint_list)"
      ],
      "metadata": {
        "id": "B2gy9fHkZraz",
        "outputId": "e3653d11-8a9f-4ed4-c58d-d26943cb5cef",
        "colab": {
          "base_uri": "https://localhost:8080/"
        }
      },
      "execution_count": 7,
      "outputs": [
        {
          "output_type": "execute_result",
          "data": {
            "text/plain": [
              "['Kelly', 'is', 'name', 'My', 'Brad', '', 'Kelly', 'Emma', '', 'Mike']"
            ]
          },
          "metadata": {},
          "execution_count": 7
        }
      ]
    },
    {
      "cell_type": "code",
      "source": [
        "# Number 3\n",
        "Joint_list = [\"Mike\", \"\", \"Emma\", \"Kelly\", \"\", \"Brad\",\"My\", \"name\", \"is\", \"Kelly\" ]\n",
        "List_without_empty_strings = []\n",
        "for x in Joint_list:\n",
        "    if (x==\"\"):\n",
        "      continue\n",
        "    else:\n",
        "      List_without_empty_strings.append(x)\n",
        "\n",
        "(List_without_empty_strings)"
      ],
      "metadata": {
        "id": "1NwmrqwrfNQc",
        "outputId": "b98ac1f3-1595-49a5-cb05-a7cdb7976345",
        "colab": {
          "base_uri": "https://localhost:8080/"
        }
      },
      "execution_count": 11,
      "outputs": [
        {
          "output_type": "execute_result",
          "data": {
            "text/plain": [
              "['Mike', 'Emma', 'Kelly', 'Brad', 'My', 'name', 'is', 'Kelly']"
            ]
          },
          "metadata": {},
          "execution_count": 11
        }
      ]
    },
    {
      "cell_type": "code",
      "source": [
        ""
      ],
      "metadata": {
        "id": "AVsM83bIazPf"
      },
      "execution_count": null,
      "outputs": []
    },
    {
      "cell_type": "code",
      "source": [
        ""
      ],
      "metadata": {
        "id": "QN5WrNg4bRA3"
      },
      "execution_count": null,
      "outputs": []
    },
    {
      "cell_type": "code",
      "source": [
        "# Removing duplicates\n",
        "Joint_list = [\"Mike\", \"Emma\", \"Kelly\", \"Brad\",\"My\", \"name\", \"is\", \"Kelly\" ]\n"
      ],
      "metadata": {
        "id": "3gJVT3VcbirI"
      },
      "execution_count": null,
      "outputs": []
    },
    {
      "cell_type": "code",
      "source": [
        "# Adding to the list\n",
        "Joint_list = [\"Mike\", \"Emma\", \"Kelly\", \"Brad\",\"My\", \"name\", \"is\", \"Kelly\" ]\n",
        "Joint_list.append(50)\n",
        "(Joint_list)"
      ],
      "metadata": {
        "id": "K0FMzBnBdQ2u",
        "outputId": "f1164c28-42cd-4950-d1a1-2cc17349aeac",
        "colab": {
          "base_uri": "https://localhost:8080/"
        }
      },
      "execution_count": 9,
      "outputs": [
        {
          "output_type": "execute_result",
          "data": {
            "text/plain": [
              "['Mike', 'Emma', 'Kelly', 'Brad', 'My', 'name', 'is', 'Kelly', 50]"
            ]
          },
          "metadata": {},
          "execution_count": 9
        }
      ]
    }
  ]
}