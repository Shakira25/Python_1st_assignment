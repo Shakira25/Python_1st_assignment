{
  "nbformat": 4,
  "nbformat_minor": 0,
  "metadata": {
    "colab": {
      "name": "Untitled5.ipynb",
      "provenance": [],
      "authorship_tag": "ABX9TyMAxbRD8+sVoz2+fxfZp4To",
      "include_colab_link": true
    },
    "kernelspec": {
      "name": "python3",
      "display_name": "Python 3"
    },
    "language_info": {
      "name": "python"
    }
  },
  "cells": [
    {
      "cell_type": "markdown",
      "metadata": {
        "id": "view-in-github",
        "colab_type": "text"
      },
      "source": [
        "<a href=\"https://colab.research.google.com/github/Shakira25/Python_1st_assignment/blob/master/Assignment%20on%20functions.ipynb\" target=\"_parent\"><img src=\"https://colab.research.google.com/assets/colab-badge.svg\" alt=\"Open In Colab\"/></a>"
      ]
    },
    {
      "cell_type": "code",
      "execution_count": 4,
      "metadata": {
        "colab": {
          "base_uri": "https://localhost:8080/"
        },
        "id": "FzpsRDVpYo0R",
        "outputId": "e8225df2-a379-4314-eb75-09fac3386f27"
      },
      "outputs": [
        {
          "output_type": "stream",
          "name": "stdout",
          "text": [
            "Shakira\n",
            "Shadia\n",
            "Rashid\n"
          ]
        }
      ],
      "source": [
        "def names():\n",
        "  print(\"Shakira\")\n",
        "  print(\"Shadia\")\n",
        "  print(\"Rashid\")\n",
        "names()\n"
      ]
    },
    {
      "cell_type": "code",
      "source": [
        "def function(x):\n",
        "  return 2 * x\n",
        "y = function(3)\n",
        "x = function(10)\n",
        "w = function(2)\n",
        "print(y)\n",
        "print(x)\n",
        "print(w)"
      ],
      "metadata": {
        "colab": {
          "base_uri": "https://localhost:8080/"
        },
        "id": "lod4087gaL2t",
        "outputId": "510c6dea-ff31-483a-be52-e8e43750b51e"
      },
      "execution_count": 6,
      "outputs": [
        {
          "output_type": "stream",
          "name": "stdout",
          "text": [
            "6\n",
            "20\n",
            "4\n"
          ]
        }
      ]
    },
    {
      "cell_type": "code",
      "source": [
        "def function2(x,y):\n",
        "  return x + y\n",
        "y = function2(9,10)\n",
        "print(y)"
      ],
      "metadata": {
        "colab": {
          "base_uri": "https://localhost:8080/"
        },
        "id": "0QOk2INibkP4",
        "outputId": "bc54699f-2d5a-445e-d411-b4be03dae1a6"
      },
      "execution_count": 7,
      "outputs": [
        {
          "output_type": "stream",
          "name": "stdout",
          "text": [
            "19\n"
          ]
        }
      ]
    }
  ]
}